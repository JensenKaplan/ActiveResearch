{
 "cells": [
  {
   "cell_type": "markdown",
   "id": "c3aa626a",
   "metadata": {},
   "source": [
    "# Fitting to get the powder average coefficients.\n",
    "After fitting CF eigenvalues to neutron data the susceptibility as calculated by PCF is orders of magnitude off of our measurements. Turns out PCF does powder averaging by summing in all three directions then dividing by 3. This is a commonly used tool.\n",
    "However, with our systems g-tensor the g<sub>xx</sub> = g<sub>yy</sub> > g<sub>zz</sub> by almost 3 times. \n",
    "\n",
    "[This paper](https://arxiv.org/ftp/arxiv/papers/1312/1312.2401.pdf) demonstrates that 1/3 factor may not be true for all systems.\n",
    "\n",
    "I decide to fit predicted magnetization to measurements by allowing the coefficients for each magnetization direction to vary. After this magnetization fitting we gather the prefactors that properly scales PCF's prediction."
   ]
  },
  {
   "cell_type": "code",
   "execution_count": 14,
   "id": "d4db6156",
   "metadata": {},
   "outputs": [],
   "source": [
    "import sys\n",
    "sys.path.append('..')\n",
    "from JensenTools import *\n",
    "import seaborn as sns\n",
    "sns.set()"
   ]
  },
  {
   "cell_type": "markdown",
   "id": "9660144e",
   "metadata": {},
   "source": [
    "## Declare important variables."
   ]
  },
  {
   "cell_type": "code",
   "execution_count": 15,
   "id": "55f49630",
   "metadata": {},
   "outputs": [],
   "source": [
    "# Define important things\n",
    "#####################################################################################################################################################################\n",
    "comp = 'Sr2PrO4'\n",
    "who = 'Arun'\n",
    "ion = 'Ce3+'\n",
    "LS_on = True\n",
    "per = 'spin'\n",
    "molweight = molweight[comp]\n",
    "\n",
    "# The L,S values are as follows for the Pr4+ ion\n",
    "L = 3\n",
    "S = 0.5\n",
    "#####################################################################################################################################################################"
   ]
  },
  {
   "cell_type": "markdown",
   "id": "1ea9753e",
   "metadata": {},
   "source": [
    "## LMFIT Model for fitting coefficients of powder averaging"
   ]
  },
  {
   "cell_type": "code",
   "execution_count": 16,
   "id": "d32d2b13",
   "metadata": {},
   "outputs": [],
   "source": [
    "# Function to be made into an LMFIT model.\n",
    "def magFit(Pr,Ha,T,a,b,c, **kwargs ):\n",
    "    mag = []\n",
    "    if kwargs['LS_on']:\n",
    "        for i in T:\n",
    "            mag.append(a*Pr.magnetization(Temp = i, Field = [Ha, 0, 0])[0] + b*Pr.magnetization(Temp = i, Field = [0, Ha, 0])[1] + c*Pr.magnetization(Temp = i, Field = [0, 0, Ha])[2])\n",
    "    else:\n",
    "        for i in T:\n",
    "            mag.append(a*Pr.magnetization(Temp = i, Field = [Ha, 0, 0], ion = ion)[0] + b*Pr.magnetization(Temp = i, Field = [0, Ha, 0], ion = ion)[1] + c*Pr.magnetization(Temp = i, Field = [0, 0, Ha], ion = ion)[2])\n",
    "    \n",
    "    return -Ha/np.array(mag)"
   ]
  },
  {
   "cell_type": "markdown",
   "id": "13c72f6d",
   "metadata": {},
   "source": [
    "## Best fit Stevens coefficients from fitting to energy"
   ]
  },
  {
   "cell_type": "code",
   "execution_count": 17,
   "id": "42d97167",
   "metadata": {},
   "outputs": [],
   "source": [
    "#Best Fit LS\n",
    "#####################################################################################################################################################################\n",
    "if LS_on:\t\n",
    "\tB40  =  -0.6568663783690575\n",
    "\tB60  =  -0.02328250024945387\n",
    "\tLS  =  100.00007580463522\n",
    "\tB44  =  -3.1415463304732714\n",
    "\tB64  =  0.504906552605772\n",
    "\tB20  =  0.4858075931009187\n",
    "#####################################################################################################################################################################\n",
    "\n",
    "# Best Fit J\n",
    "#####################################################################################################################################################################\n",
    "if not LS_on:\n",
    "\t# # Red Chi = ~.01\n",
    "\tB40  =  -0.5572886105373519\n",
    "\tB60  =  0.4673\n",
    "\tB44  =  -3.0946858584804335\n",
    "\tB64  =  -9.8133\n",
    "\tB20  =  12.606195720794622\n",
    "#####################################################################################################################################################################\n",
    "\n",
    "# Create Pr CFLevels object using the best fit coefficients.\n",
    "#####################################################################################################################################################################\n",
    "stev = { 'B20' :B20, 'B40': B40, 'B44' : B44, 'B60': B60, 'B64' : B64 }\n",
    "#Create the CFLevels object and diagonalize it\n",
    "if LS_on:\n",
    "\tPr = cef.LS_CFLevels.Bdict(Bdict = stev, L = L, S = S, SpinOrbitCoupling=LS)\n",
    "\tPr.diagonalize()\n",
    "else:\n",
    "\tPr = cef.CFLevels.Bdict(Bdict = stev, ion = ion)\n",
    "\tPr.diagonalize()\n",
    "#####################################################################################################################################################################"
   ]
  },
  {
   "cell_type": "markdown",
   "id": "3b1c648d",
   "metadata": {},
   "source": [
    "## Loading M vs H measured data and choosing a temperature run."
   ]
  },
  {
   "cell_type": "code",
   "execution_count": 18,
   "id": "a1e43248",
   "metadata": {},
   "outputs": [],
   "source": [
    "saveDir = getSaveDir('m',comp = comp) #General Directory for the project\n",
    "MTDir = getSaveDir('m',comp = comp, dataType = 'MT') #MvsT data\n",
    "    \n",
    "# Loading data for M vs T \n",
    "#####################################################################################################################################################################\n",
    "runs = []\n",
    "for i in os.listdir(MTDir):\n",
    "    if i.endswith('.DAT') or i.endswith('.dat'): #This was a safeguard against a situation arising at an earlier implementation of my code.\n",
    "        runs.append(i)\n",
    "MTdata = {}\n",
    "for i in runs:\n",
    "    M,H,T,MErr,mass,measType = getData(i,MTDir, who = who, dataType = 'MT')\n",
    "    M = normalize(M,mass,molweight,per)\n",
    "    MErr = normalize(MErr,mass,molweight,per)\n",
    "    MTdata[measType] = [M,H,T,MErr,mass]\n",
    "\n",
    "#Either 'ZFC' or 'FC'\n",
    "M,H,T,MErr,mass = MTdata['ZFC']\n",
    "\n",
    "MBohr = emuToBohr2(M)\n",
    "HTes = oeToTesla(H)\n",
    "X = MBohr/HTes\n",
    "Xi = 1/X"
   ]
  },
  {
   "cell_type": "markdown",
   "id": "f20ec374",
   "metadata": {},
   "source": [
    "## Fit the model to data allowing powder average coefficients to vary."
   ]
  },
  {
   "cell_type": "code",
   "execution_count": 19,
   "id": "36d96f0f",
   "metadata": {},
   "outputs": [
    {
     "name": "stdout",
     "output_type": "stream",
     "text": [
      "Name     Value      Min      Max   Stderr     Vary     Expr Brute_Step\n",
      "a   0.07164   0.0001        1 4.398e+04     True     None     None\n",
      "b    0.0142   0.0001        1 4.391e+04     True     None     None\n",
      "c    0.1196   0.0001        1  0.02699     True     None     None\n"
     ]
    }
   ],
   "source": [
    "# Make LMFIT model and fit\n",
    "# Create stevens coefficients dictionary from fitted parameters\n",
    "#####################################################################################################################################################################\n",
    "magModel = Model(magFit, independent_vars = ['Ha', 'Pr', 'T'])\n",
    "params = magModel.make_params()\n",
    "\n",
    "# Bounded\n",
    "params['a'].set(value = 1/3, min = .0001, max = 1)\n",
    "params['b'].set(value = 1/3, min = .0001, max = 1)\n",
    "params['c'].set(value = 1/3, min = .0001, max = 1)\n",
    "\n",
    "## Unbounded\n",
    "# params['a'].set(value = 1/3)\n",
    "# params['b'].set(value = 1/3)\n",
    "# params['c'].set(value = 1/3)\n",
    "\n",
    "# Fit model to data\n",
    "Ha = .1\n",
    "fitted = magModel.fit(Xi,params,Pr = Pr, Ha = Ha, T = T, LS_on = LS_on, ion = ion)\n",
    "fitted.params.pretty_print()"
   ]
  },
  {
   "cell_type": "markdown",
   "id": "344e9f78",
   "metadata": {},
   "source": [
    "## Plot"
   ]
  },
  {
   "cell_type": "code",
   "execution_count": 20,
   "id": "4effe73a",
   "metadata": {},
   "outputs": [
    {
     "data": {
      "image/png": "[encoded data removed]",
      "text/plain": [
       "<Figure size 432x288 with 1 Axes>"
      ]
     },
     "metadata": {},
     "output_type": "display_data"
    }
   ],
   "source": [
    "plt.figure()\n",
    "plt.plot(T,Xi, label = 'Measured M/H')\n",
    "plt.plot(T,fitted.best_fit, label = 'PCF Powder Average Fit')\n",
    "plt.xlabel('Temperature (K)')\n",
    "plt.ylabel('X^-1 (uB^-1 Tesla spin)')\n",
    "plt.legend()\n",
    "plt.title('Inverse Susceptbility {} Tesla '.format(.1))\n",
    "plt.show()"
   ]
  }
 ],
 "metadata": {
  "kernelspec": {
   "display_name": "Python 3 (ipykernel)",
   "language": "python",
   "name": "python3"
  },
  "language_info": {
   "codemirror_mode": {
    "name": "ipython",
    "version": 3
   },
   "file_extension": ".py",
   "mimetype": "text/x-python",
   "name": "python",
   "nbconvert_exporter": "python",
   "pygments_lexer": "ipython3",
   "version": "3.9.7"
  }
 },
 "nbformat": 4,
 "nbformat_minor": 5
}
