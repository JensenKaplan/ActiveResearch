{
 "cells": [
  {
   "cell_type": "markdown",
   "metadata": {},
   "source": [
    "# Here I fit the Curie-Weiss Law to the Magnetization vs Temeperature data as measured by the PPMS-VSM. \n",
    "### Note that reading in mass and type of file is hardcoded to follow my lab's convention for file naming.\n",
    "\n",
    "# We typically look at two types of runs, Field Cooling (FC) and Zero-Field Cooling (ZFC).\n",
    "## If the Weiss constant is negative we have an antiferromagnet, if the Weiss constant is positive we have a ferromagnet.\n",
    "## We get the effective magnetic moment and g-factor from Curie's constant"
   ]
  },
  {
   "cell_type": "code",
   "execution_count": 123,
   "metadata": {},
   "outputs": [],
   "source": [
    "import numpy as np\n",
    "import matplotlib.pyplot as plt\n",
    "import os\n",
    "from lmfit import Model\n",
    "import seaborn as sns\n",
    "import pandas as pd\n",
    "sns.set()"
   ]
  },
  {
   "cell_type": "markdown",
   "metadata": {},
   "source": [
    "## My functions"
   ]
  },
  {
   "cell_type": "code",
   "execution_count": 124,
   "metadata": {},
   "outputs": [],
   "source": [
    "# Takes a filename and data directory\n",
    "# Returns the field, magnetic moment, error, and name (temperature) of the run\n",
    "# field, moment, and error are returned as np arrays\n",
    "# name is returned as a string\n",
    "## Note that the name handling is hardcoded for how my lab conventionally names our files.\n",
    "def getData(magrun, dataDir):\n",
    "    name = magrun.split('_')[4].split('.')[0].replace('P','.')\n",
    "    mass = getMass(magrun)\n",
    "    measType = magrun.split('_')[5].split('.')[0]\n",
    "    df = pd.read_csv(dataDir+magrun)\n",
    "    df.dropna(inplace = True)\n",
    "    T = np.array(df['Temperature (K)'])\n",
    "    H = np.array(df['Magnetic Field (Oe)'])\n",
    "    E = np.array(df['M. Std. Err. (emu)'])\n",
    "    M = np.array(df['Moment (emu)'])\n",
    "    return M,H,T,E, mass, name, measType\n",
    "\n",
    "# Takes a filename\n",
    "# Returns mass in grams\n",
    "def getMass(filename):\n",
    "    mass = filename.split('_')[2]\n",
    "    mass = mass.replace('P','.')\n",
    "    mass = mass[:-2]\n",
    "    return float(mass)/1000\n",
    "\n",
    "# This is the inverse of the Curie-Weiss Law.\n",
    "# We will be creating an LMFIT model with this and fitting for:\n",
    "## Curie's constant 'c', Weiss' constant 'wc'\n",
    "def Curiei(t,c,wc):\n",
    "    return(t-wc)/c\n",
    "\n",
    "# Takes in Curie's constant and the system's total angular momentum J value\n",
    "# Returns effective moment (bohr magnetons) and effective g-factor\n",
    "def calcConstants(c,J):\n",
    "    ueff = np.sqrt(8*c)\n",
    "    gj = ueff/np.sqrt(J*(J+1))\n",
    "    return ueff, gj"
   ]
  },
  {
   "cell_type": "markdown",
   "metadata": {},
   "source": [
    "## Manually enter the sample name, molecular weight, and mass error (for our scales  .00005 g)\n",
    "https://www.lenntech.com/calculators/molecular/molecular-weight-calculator.htm\n"
   ]
  },
  {
   "cell_type": "code",
   "execution_count": 125,
   "metadata": {},
   "outputs": [],
   "source": [
    "comp = 'ErOI'\n",
    "molweight = 310.16\n",
    "massE = .00005"
   ]
  },
  {
   "cell_type": "markdown",
   "metadata": {},
   "source": [
    "## Load the M vs T data file names into a list and create a dictionary 'data' which holds all of the measured data for that type of measurement\n",
    "### {'FC/ZFC' : [Magnetization, Applied Field, Temperature, Magnetization error, sammplemass,  ]}"
   ]
  },
  {
   "cell_type": "code",
   "execution_count": 126,
   "metadata": {},
   "outputs": [],
   "source": [
    "dataDir = 'data/'\n",
    "runs = []\n",
    "for i in os.listdir(dataDir):\n",
    "    if i.endswith('.DAT'):\n",
    "        runs.append(i)"
   ]
  },
  {
   "cell_type": "markdown",
   "metadata": {},
   "source": [
    "# Choose the Magnetization (M vs T) .dat file to analyze. \n",
    "\n",
    "Specify compound name, directory, and the run we're lookating at."
   ]
  },
  {
   "cell_type": "code",
   "execution_count": 127,
   "metadata": {
    "scrolled": true
   },
   "outputs": [],
   "source": [
    "data = {}\n",
    "for i in runs:\n",
    "    M,H,T,Err,samplemass,name,measType = getData(i,dataDir)\n",
    "    data[measType] = [M,H,T,Err,samplemass,name,measType]\n",
    "\n",
    "M,H,T,Err,samplemass,name,measType = data['ZFC']"
   ]
  },
  {
   "cell_type": "markdown",
   "metadata": {},
   "source": [
    "# Calculate the Susceptibility and Susceptibility Error (normalized to emu Oe^-1 Mol^-1)"
   ]
  },
  {
   "cell_type": "code",
   "execution_count": 128,
   "metadata": {},
   "outputs": [],
   "source": [
    "SuscNorm = []\n",
    "SuscErrorNorm = []\n",
    "for i in range(len(M)):\n",
    "    SuscNorm.append(M[i]/H[i]*molweight/samplemass/1)\n",
    "    SuscErrorNorm.append(E[i]/H[i]*molweight/samplemass + M[i]/H[i]*molweight*massE/(samplemass**2))    "
   ]
  },
  {
   "cell_type": "markdown",
   "metadata": {},
   "source": [
    "# Getting inverse susceptibility and inverse of the error"
   ]
  },
  {
   "cell_type": "code",
   "execution_count": 129,
   "metadata": {},
   "outputs": [],
   "source": [
    "Xi = []\n",
    "SuscErrorNormi = []\n",
    "\n",
    "for i in SuscNorm:\n",
    "    Xi.append(1/i)\n",
    "Xi = np.array(Xi)\n",
    "\n",
    "for i in range(len(SuscErrorNorm)):\n",
    "    SuscErrorNormi.append(SuscErrorNorm[i]/SuscNorm[i]**2)\n",
    "SuscErrorNormi = np.array(SuscErrorNormi)"
   ]
  },
  {
   "cell_type": "markdown",
   "metadata": {},
   "source": [
    "# Choose a range of temperatures to fit over.  \"tr\"\n",
    "\n",
    "# Make initial guess for \"c\" and \"tc\""
   ]
  },
  {
   "cell_type": "code",
   "execution_count": 130,
   "metadata": {},
   "outputs": [],
   "source": [
    "tr = [0,400] #temprange = [low,high]\n",
    "\n",
    "cmodeli =  Model(Curiei, independent_vars = ['t'])\n",
    "params = cmodeli.make_params()\n",
    "params['wc'].set(value = 10)\n",
    "params['c'].set(value = 10)\n"
   ]
  },
  {
   "cell_type": "markdown",
   "metadata": {},
   "source": [
    "Fit Over Desired Range"
   ]
  },
  {
   "cell_type": "code",
   "execution_count": 131,
   "metadata": {},
   "outputs": [],
   "source": [
    "newT = []\n",
    "newXi = []\n",
    "newE = []\n",
    "for i in range(len(T)):\n",
    "    if (T[i] >= tr[0] and T[i]<= tr[1]):\n",
    "        newT.append(T[i])\n",
    "        newXi.append(Xi[i])\n",
    "        newE.append(SuscErrorNormi[i])\n",
    "\n",
    "\n",
    "resulti = cmodeli.fit(newXi, params, t = newT, weights = newE) #fit"
   ]
  },
  {
   "cell_type": "markdown",
   "metadata": {},
   "source": [
    "# We now plot everything: Measured 1/X and Fitted 1/X.\n",
    "\n",
    "## Linear Linear"
   ]
  },
  {
   "cell_type": "code",
   "execution_count": 132,
   "metadata": {},
   "outputs": [
    {
     "data": {
      "image/png": "[encoded data removed]",
      "text/plain": [
       "<Figure size 432x288 with 1 Axes>"
      ]
     },
     "metadata": {},
     "output_type": "display_data"
    },
    {
     "name": "stdout",
     "output_type": "stream",
     "text": [
      "Susc error norm =  0.002826862613737191\n",
      "The Weiss constant = -10.54 K\n",
      "The Curie constant = 10.193\n",
      "Effective moment for ErOI is 9.030 bohr ,  gj factor = 10.427\n"
     ]
    }
   ],
   "source": [
    "plt.errorbar(T,Xi,yerr = SuscErrorNormi, fmt ='-',label = 'Measured 1/X')\n",
    "plt.plot(newT,resulti.best_fit,'orange', label = 'Fitted 1/X')\n",
    "plt.title(comp + \" \" + measType, fontsize = 20)\n",
    "plt.xlabel('Temperature (K)', fontsize = 13)\n",
    "plt.ylabel('1/X (spin/emu)', fontsize = 13)\n",
    "plt.legend()\n",
    "plt.show()\n",
    "\n",
    "\n",
    "print('Susc error norm = ', SuscErrorNormi[0])\n",
    "print('The Weiss constant = {:.2f} K\\nThe Curie constant = {:.3f}'.format(resulti.params['wc'].value,resulti.params['c'].value))\n",
    "\n",
    "ueff, gj = calcConstants(resulti.params['c'].value,1/2)\n",
    "\n",
    "# print(ueff/(mass/molweight)*6.02*10**-23)\n",
    "print('Effective moment for {:} is {:.3f} bohr ,  gj factor = {:.3f}'.format(comp,ueff,gj))"
   ]
  },
  {
   "cell_type": "code",
   "execution_count": 133,
   "metadata": {
    "scrolled": true
   },
   "outputs": [
    {
     "name": "stdout",
     "output_type": "stream",
     "text": [
      "1/X fitted parameters\n",
      "Name     Value      Min      Max   Stderr     Vary     Expr Brute_Step\n",
      "c      10.19     -inf      inf  0.01007     True     None     None\n",
      "wc    -10.54     -inf      inf   0.3138     True     None     None\n",
      "\n",
      " Reduced chi sqr:  6.95107520370689e-06\n",
      "\n",
      " Chi sqr:  0.000820226874037413\n"
     ]
    }
   ],
   "source": [
    "print('1/X fitted parameters')\n",
    "resulti.result.params.pretty_print()\n",
    "print('\\n Reduced chi sqr: ', resulti.result.redchi)\n",
    "print('\\n Chi sqr: ', resulti.result.chisqr)"
   ]
  },
  {
   "cell_type": "markdown",
   "metadata": {},
   "source": [
    "## Log Linear"
   ]
  },
  {
   "cell_type": "code",
   "execution_count": 134,
   "metadata": {},
   "outputs": [],
   "source": [
    "\n",
    "# plt.plot(T,Xi,'b.',alpha=.05,label = 'Measured 1/X')\n",
    "# plt.plot(newT,resulti.best_fit,'orange', label = 'Fitted 1/X')\n",
    "# plt.title(comp, fontsize = 20)\n",
    "# plt.xlabel('Temperature (K)', fontsize = 13)\n",
    "# plt.ylabel('1/X', fontsize = 13)\n",
    "# plt.yscale('log')\n",
    "# plt.legend()\n",
    "# plt.show()"
   ]
  },
  {
   "cell_type": "markdown",
   "metadata": {},
   "source": [
    "## Log Log"
   ]
  },
  {
   "cell_type": "code",
   "execution_count": 135,
   "metadata": {},
   "outputs": [],
   "source": [
    "# plt.plot(T,Xi,'b.',alpha=.05,label = 'Measured 1/X')\n",
    "# plt.plot(newT,resulti.best_fit,'orange', label = 'Fitted 1/X')\n",
    "# plt.title(comp, fontsize = 20)\n",
    "# plt.xlabel('Temperature (K)', fontsize = 13)\n",
    "# plt.ylabel('1/X', fontsize = 13)\n",
    "# plt.yscale('log')\n",
    "# plt.xscale('log')\n",
    "# plt.legend()\n",
    "# plt.show()"
   ]
  },
  {
   "cell_type": "markdown",
   "metadata": {},
   "source": [
    "# Print out fitted curie constant, weiss constant, chi sqr, reduced chi sqr, and magnetic moment."
   ]
  },
  {
   "cell_type": "code",
   "execution_count": 136,
   "metadata": {
    "scrolled": true
   },
   "outputs": [],
   "source": [
    "# print('1/X fitted parameters:\\n--------------------------------------------------------------------')\n",
    "# resulti.params.pretty_print()\n",
    "# print('\\n\\n--------------------------------------------------------------------')\n",
    "# print(' Reduced chi sqr: ', resulti.redchi)\n",
    "# print('Chi sqr: ', resulti.chisqr)\n",
    "# print('--------------------------------------------------------------------\\n\\n')\n",
    "# # print('Magnetic moment(not correct yet) = ',2.34*np.sqrt(resulti.params['c'].value))"
   ]
  }
 ],
 "metadata": {
  "kernelspec": {
   "display_name": "Python 3 (ipykernel)",
   "language": "python",
   "name": "python3"
  },
  "language_info": {
   "codemirror_mode": {
    "name": "ipython",
    "version": 3
   },
   "file_extension": ".py",
   "mimetype": "text/x-python",
   "name": "python",
   "nbconvert_exporter": "python",
   "pygments_lexer": "ipython3",
   "version": "3.9.7"
  }
 },
 "nbformat": 4,
 "nbformat_minor": 4
}
