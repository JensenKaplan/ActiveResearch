{
 "cells": [
  {
   "cell_type": "code",
   "execution_count": 124,
   "metadata": {},
   "outputs": [],
   "source": [
    "import numpy as np\n",
    "import matplotlib.pyplot as plt\n",
    "import os\n",
    "from lmfit import Model\n",
    "import seaborn as sns\n",
    "import pandas as pd\n",
    "sns.set()"
   ]
  },
  {
   "cell_type": "markdown",
   "metadata": {},
   "source": [
    "# Function for returning Moment, Field, Temperature, Error, Mass (g) and Name"
   ]
  },
  {
   "cell_type": "code",
   "execution_count": 125,
   "metadata": {},
   "outputs": [],
   "source": [
    "def getData(magrun):\n",
    "    name = magrun.split('_')[4].split('.')[0]\n",
    "    name = name.replace('P','.')\n",
    "    mass = magrun.split('_')[2]\n",
    "    mass = mass.replace('P','.')\n",
    "    mass = mass[:-2]\n",
    "    measType = magrun.split('_')[5].split('.')[0]\n",
    "    df = pd.read_csv(magrun)\n",
    "    df.dropna(inplace = True)\n",
    "    T = np.array(df['Temperature (K)'])\n",
    "    H = np.array(df['Magnetic Field (Oe)'])\n",
    "    E = np.array(df['M. Std. Err. (emu)'])\n",
    "    Mom = np.array(df['Moment (emu)'])\n",
    "    return Mom,H,T,E, float(mass)/1000, name, measType\n",
    "    \n",
    "def calcConstants(c,J):\n",
    "    ueff = np.sqrt(8*c)\n",
    "    gj = ueff/np.sqrt(J*(J+1))\n",
    "    return ueff, gj"
   ]
  },
  {
   "cell_type": "markdown",
   "metadata": {},
   "source": [
    "# Define the inverse of Curie-Weiss Law as an LMFIT Model and instantiate"
   ]
  },
  {
   "cell_type": "code",
   "execution_count": 126,
   "metadata": {},
   "outputs": [],
   "source": [
    "def Curiei(t,c,tc):\n",
    "    return(t-tc)/c\n",
    "cmodeli =  Model(Curiei)"
   ]
  },
  {
   "cell_type": "markdown",
   "metadata": {},
   "source": [
    "# Get all of the runs in current directory.\n",
    "## Define compound name"
   ]
  },
  {
   "cell_type": "code",
   "execution_count": 127,
   "metadata": {},
   "outputs": [],
   "source": [
    "thisdir = os.getcwd()\n",
    "runs = []\n",
    "for i in os.listdir(thisdir):\n",
    "    if i.endswith('.DAT'):\n",
    "        runs.append(i)\n",
    "comp = 'ErOI'"
   ]
  },
  {
   "cell_type": "markdown",
   "metadata": {},
   "source": [
    "# get moleuclar weight from https://www.lenntech.com/calculators/molecular/molecular-weight-calculator.htm\n",
    "\n",
    "# Define mass error (for our scales typically .0005)\n"
   ]
  },
  {
   "cell_type": "code",
   "execution_count": 128,
   "metadata": {},
   "outputs": [],
   "source": [
    "molweight = 310.16\n",
    "massE = .0005"
   ]
  },
  {
   "cell_type": "markdown",
   "metadata": {},
   "source": [
    "# Choose the Magnetization (M vs T) .dat file to analyze. \n",
    "\n",
    "## If measured on PPMS, columns are : Time, Temp, H, Moment (emu), Std. Error (emu)\n",
    "\n",
    "Specify compound name, directory, and the run we're lookating at."
   ]
  },
  {
   "cell_type": "code",
   "execution_count": 129,
   "metadata": {
    "scrolled": true
   },
   "outputs": [],
   "source": [
    "# print(runs)\n",
    "Mom,H,T,E,samplemass,name,measType = getData(runs[1])\n",
    "# magrun = '2021-10-25_EROI_34P8MG_MVST_0p1T_ZFC.DAT'"
   ]
  },
  {
   "cell_type": "markdown",
   "metadata": {},
   "source": [
    "# Calculate the Susceptibility and Susceptibility Error (normalized to emu Oe^-1 Mol^-1)"
   ]
  },
  {
   "cell_type": "code",
   "execution_count": 130,
   "metadata": {},
   "outputs": [],
   "source": [
    "SuscNorm = []\n",
    "SuscErrorNorm = []\n",
    "for i in range(len(Mom)):\n",
    "    SuscNorm.append(Mom[i]/H[i]*molweight/samplemass/1)\n",
    "    SuscErrorNorm.append(E[i]/H[i]*molweight/samplemass + Mom[i]/H[i]*molweight*massE/(samplemass**2))    "
   ]
  },
  {
   "cell_type": "markdown",
   "metadata": {},
   "source": [
    "# Getting inverse susceptibility and inverse of the error"
   ]
  },
  {
   "cell_type": "code",
   "execution_count": 131,
   "metadata": {},
   "outputs": [],
   "source": [
    "Xi = []\n",
    "SuscErrorNormi = []\n",
    "\n",
    "for i in SuscNorm:\n",
    "    Xi.append(1/i)\n",
    "Xi = np.array(Xi)\n",
    "\n",
    "for i in range(len(SuscErrorNorm)):\n",
    "    SuscErrorNormi.append(SuscErrorNorm[i]/SuscNorm[i]**2)\n",
    "SuscErrorNormi = np.array(SuscErrorNormi)"
   ]
  },
  {
   "cell_type": "markdown",
   "metadata": {},
   "source": [
    "# Choose a range of temperatures to fit over.  \"tr\"\n",
    "\n",
    "# Make initial guess for \"c\" and \"tc\""
   ]
  },
  {
   "cell_type": "code",
   "execution_count": 132,
   "metadata": {},
   "outputs": [],
   "source": [
    "tr = [0,400] #temprange = [low,high]\n",
    "c = 10\n",
    "tc = -10"
   ]
  },
  {
   "cell_type": "markdown",
   "metadata": {},
   "source": [
    "Fit Over Desired Range"
   ]
  },
  {
   "cell_type": "code",
   "execution_count": 133,
   "metadata": {},
   "outputs": [],
   "source": [
    "newT = []\n",
    "newXi = []\n",
    "newE = []\n",
    "for i in range(len(T)):\n",
    "    if (T[i] >= tr[0] and T[i]<= tr[1]):\n",
    "        newT.append(T[i])\n",
    "        newXi.append(Xi[i])\n",
    "        newE.append(SuscErrorNormi[i])    \n",
    "resulti = cmodeli.fit(newXi,t = newT, c = c  , tc = tc, weights = newE) #fit"
   ]
  },
  {
   "cell_type": "markdown",
   "metadata": {},
   "source": [
    "# We now plot everything: Measured 1/X and Fitted 1/X.\n",
    "\n",
    "## Linear Linear"
   ]
  },
  {
   "cell_type": "code",
   "execution_count": 134,
   "metadata": {},
   "outputs": [
    {
     "data": {
      "image/png": "[encoded data removed]",
      "text/plain": [
       "<Figure size 432x288 with 1 Axes>"
      ]
     },
     "metadata": {},
     "output_type": "display_data"
    },
    {
     "name": "stdout",
     "output_type": "stream",
     "text": [
      "Susc error norm =  0.027897705915326938\n",
      "The Weiss constant = -10.56 K\n",
      "The Curie constant = 10.194\n",
      "Effective moment for ErOI is 9.031 bohr ,  gj factor = 10.428\n"
     ]
    }
   ],
   "source": [
    "plt.errorbar(T,Xi,yerr = SuscErrorNormi, fmt ='-',label = 'Measured 1/X')\n",
    "plt.plot(newT,resulti.best_fit,'orange', label = 'Fitted 1/X')\n",
    "plt.title(comp + \" \" + measType, fontsize = 20)\n",
    "plt.xlabel('Temperature (K)', fontsize = 13)\n",
    "plt.ylabel('1/X (spin/emu)', fontsize = 13)\n",
    "plt.legend()\n",
    "plt.show()\n",
    "\n",
    "\n",
    "print('Susc error norm = ', SuscErrorNormi[0])\n",
    "print('The Weiss constant = {:.2f} K\\nThe Curie constant = {:.3f}'.format(resulti.params['tc'].value,resulti.params['c'].value))\n",
    "\n",
    "ueff, gj = calcConstants(resulti.params['c'].value,1/2)\n",
    "\n",
    "# print(ueff/(mass/molweight)*6.02*10**-23)\n",
    "print('Effective moment for {:} is {:.3f} bohr ,  gj factor = {:.3f}'.format(comp,ueff,gj))"
   ]
  },
  {
   "cell_type": "code",
   "execution_count": 135,
   "metadata": {
    "scrolled": true
   },
   "outputs": [
    {
     "name": "stdout",
     "output_type": "stream",
     "text": [
      "1/X fitted parameters\n",
      "Name     Value      Min      Max   Stderr     Vary     Expr Brute_Step\n",
      "c      10.19     -inf      inf  0.01008     True     None     None\n",
      "tc    -10.56     -inf      inf   0.3137     True     None     None\n",
      "\n",
      " Reduced chi sqr:  0.0006690650382936626\n",
      "\n",
      " Chi sqr:  0.07894967451865219\n"
     ]
    }
   ],
   "source": [
    "print('1/X fitted parameters')\n",
    "resulti.result.params.pretty_print()\n",
    "print('\\n Reduced chi sqr: ', resulti.result.redchi)\n",
    "print('\\n Chi sqr: ', resulti.result.chisqr)"
   ]
  },
  {
   "cell_type": "markdown",
   "metadata": {},
   "source": [
    "## Log Linear"
   ]
  },
  {
   "cell_type": "code",
   "execution_count": 136,
   "metadata": {},
   "outputs": [],
   "source": [
    "\n",
    "# plt.plot(T,Xi,'b.',alpha=.05,label = 'Measured 1/X')\n",
    "# plt.plot(newT,resulti.best_fit,'orange', label = 'Fitted 1/X')\n",
    "# plt.title(comp, fontsize = 20)\n",
    "# plt.xlabel('Temperature (K)', fontsize = 13)\n",
    "# plt.ylabel('1/X', fontsize = 13)\n",
    "# plt.yscale('log')\n",
    "# plt.legend()\n",
    "# plt.show()"
   ]
  },
  {
   "cell_type": "markdown",
   "metadata": {},
   "source": [
    "## Log Log"
   ]
  },
  {
   "cell_type": "code",
   "execution_count": 137,
   "metadata": {},
   "outputs": [],
   "source": [
    "# plt.plot(T,Xi,'b.',alpha=.05,label = 'Measured 1/X')\n",
    "# plt.plot(newT,resulti.best_fit,'orange', label = 'Fitted 1/X')\n",
    "# plt.title(comp, fontsize = 20)\n",
    "# plt.xlabel('Temperature (K)', fontsize = 13)\n",
    "# plt.ylabel('1/X', fontsize = 13)\n",
    "# plt.yscale('log')\n",
    "# plt.xscale('log')\n",
    "# plt.legend()\n",
    "# plt.show()"
   ]
  },
  {
   "cell_type": "markdown",
   "metadata": {},
   "source": [
    "# Print out fitted curie constant, weiss constant, chi sqr, reduced chi sqr, and magnetic moment."
   ]
  },
  {
   "cell_type": "code",
   "execution_count": 138,
   "metadata": {
    "scrolled": true
   },
   "outputs": [],
   "source": [
    "# print('1/X fitted parameters:\\n--------------------------------------------------------------------')\n",
    "# resulti.params.pretty_print()\n",
    "# print('\\n\\n--------------------------------------------------------------------')\n",
    "# print(' Reduced chi sqr: ', resulti.redchi)\n",
    "# print('Chi sqr: ', resulti.chisqr)\n",
    "# print('--------------------------------------------------------------------\\n\\n')\n",
    "# # print('Magnetic moment(not correct yet) = ',2.34*np.sqrt(resulti.params['c'].value))"
   ]
  }
 ],
 "metadata": {
  "kernelspec": {
   "display_name": "Python 3 (ipykernel)",
   "language": "python",
   "name": "python3"
  },
  "language_info": {
   "codemirror_mode": {
    "name": "ipython",
    "version": 3
   },
   "file_extension": ".py",
   "mimetype": "text/x-python",
   "name": "python",
   "nbconvert_exporter": "python",
   "pygments_lexer": "ipython3",
   "version": "3.9.7"
  }
 },
 "nbformat": 4,
 "nbformat_minor": 4
}
