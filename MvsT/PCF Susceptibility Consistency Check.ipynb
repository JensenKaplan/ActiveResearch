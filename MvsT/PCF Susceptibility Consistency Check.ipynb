{
 "cells": [
  {
   "cell_type": "markdown",
   "id": "dcc2cf5d",
   "metadata": {},
   "source": [
    "# This script is for testing the susceptibility calculations done by PCF. \n",
    "Currently the \"susceptibility()\" function produces orders of magnitude higher than measured for our compound. The function computes numerical derivatives from magnetization.\n",
    "\n",
    "Using PCF's \"magnetization()\" function and computing M/H manually does not produce the same results as PCF's susceptibility function. But it does seem to get closer to measurements.\n",
    "\n",
    "PCF has a \"susceptibilityPert()\" function which calculates susceptibility from perturbation theory, but it only supports J Basis. Also, it currently only prduces nans."
   ]
  },
  {
   "cell_type": "code",
   "execution_count": 138,
   "id": "9bcc77b2",
   "metadata": {},
   "outputs": [],
   "source": [
    "import sys\n",
    "sys.path.append('..')\n",
    "from JensenTools import *"
   ]
  },
  {
   "cell_type": "markdown",
   "id": "a9a43648",
   "metadata": {},
   "source": [
    "## Declare important variables."
   ]
  },
  {
   "cell_type": "code",
   "execution_count": 139,
   "id": "e01bb576",
   "metadata": {},
   "outputs": [],
   "source": [
    "# kwargs\n",
    "#####################################################################################################################################################################\n",
    "comp = 'Sr2PrO4'\n",
    "ion = 'Ce3+'\n",
    "who = 'Arun'\n",
    "LS_on = True\n",
    "Kmeans = True\n",
    "LSValue = 100\n",
    "numlevels = 4\n",
    "per = 'spin'\n",
    "\n",
    "# The L,S values are as follows for the Pr4+ ion\n",
    "L = 3\n",
    "S = 0.5\n",
    "massErr = .00005\n",
    "molweight = molweight[comp]\n",
    "#####################################################################################################################################################################"
   ]
  },
  {
   "cell_type": "markdown",
   "id": "620d534d",
   "metadata": {},
   "source": [
    "## Create the CFLevels object from best fit parameters."
   ]
  },
  {
   "cell_type": "code",
   "execution_count": 140,
   "id": "74c5c2de",
   "metadata": {},
   "outputs": [],
   "source": [
    "# Make LS_CFLevels object with best fit parameters\n",
    "#####################################################################################################################################################################\n",
    "if LS_on:\n",
    "    B20  =  0.4858075931009187\n",
    "    B40  =  -0.6568663783690575\n",
    "    B44  =  -3.1415463304732714\n",
    "    B60  =  -0.02328250024945387\n",
    "    B64  =  0.504906552605772\n",
    "    LS  =  100.00007580463522\n",
    "    B40J  =  -0.5572886105373519\n",
    "    B60J  =  0.4673\n",
    "    B44J  =  -3.0946858584804335\n",
    "    B64J  =  -9.8133\n",
    "    B20J  =  12.606195720794622\n",
    "else:\n",
    "    B40  =  -0.5572886105373519\n",
    "    B60  =  0.4673\n",
    "    B44  =  -3.0946858584804335\n",
    "    B64  =  -9.8133\n",
    "    B20  =  12.606195720794622\n",
    "\n",
    "saveDir = getSaveDir('m',comp = comp) #General Directory for the project\n",
    "MTDir = getSaveDir('m',comp = comp, dataType = 'MT') #MvsT data\n",
    "\n",
    "stevLS = { 'B20' :B20, 'B40': B40, 'B44' : B44, 'B60': B60, 'B64' : B64 }\n",
    "stevJ = { 'B20' :B20J, 'B40': B40J, 'B44' : B44J, 'B60': B60J, 'B64' : B64J }\n",
    "#Create the CFLevels object and diagonalize it\n",
    "if LS_on:\n",
    "    Pr = cef.LS_CFLevels.Bdict(Bdict = stevLS, L = L, S = S, SpinOrbitCoupling=LS)\n",
    "    PrJ = cef.CFLevels.Bdict(Bdict = stevJ, ion = 'Ce3+')\n",
    "    Pr.diagonalize()\n",
    "    PrJ.diagonalize()\n",
    "else:\n",
    "    Pr = cef.CFLevels.Bdict(Bdict = stev, ion = 'Ce3+')\n",
    "    Pr.diagonalize()\n",
    "#####################################################################################################################################################################"
   ]
  },
  {
   "cell_type": "markdown",
   "id": "b8df434d",
   "metadata": {},
   "source": [
    "## Load susceptibility data from measurement and normalize it either per mol or spin. (PCF calculates per spin). Choose ZFC or FC."
   ]
  },
  {
   "cell_type": "code",
   "execution_count": 141,
   "id": "1a3e2bef",
   "metadata": {},
   "outputs": [],
   "source": [
    "# Loading data for M vs T \n",
    "#####################################################################################################################################################################\n",
    "runs = []\n",
    "for i in os.listdir(MTDir):\n",
    "    if i.endswith('.DAT') or i.endswith('.dat'): #This was a safeguard against a situation arising at an earlier implementation of my code.\n",
    "        runs.append(i)\n",
    "MTdata = {}\n",
    "for i in runs:\n",
    "    M,H,T,MErr,mass,measType = getData(i,MTDir, who = who, dataType = 'MT')\n",
    "    M = normalize(M,mass,molweight,per)\n",
    "    Merr = normalize(MErr,mass,molweight,per)\n",
    "    MTdata[measType] = [M,H,T,MErr,mass]\n",
    "\n",
    "#Either 'ZFC' or 'FC'\n",
    "M,H,T,MErr,mass = MTdata['FC']\n",
    "#####################################################################################################################################################################"
   ]
  },
  {
   "cell_type": "markdown",
   "id": "d5357703",
   "metadata": {},
   "source": [
    "## Use PCF's susceptibility function to calculate."
   ]
  },
  {
   "cell_type": "code",
   "execution_count": 142,
   "id": "eab51870",
   "metadata": {},
   "outputs": [],
   "source": [
    "# Use PCF function to calculate Susceptibility (uB/Tesla/Spin) over T\n",
    "#####################################################################################################################################################################\n",
    "fieldT = 0.1 #To match Arun's measurements\n",
    "deltaField = .00001\n",
    "if LS_on:\n",
    "    XCalcBohrLS = Pr.susceptibility(Temps = T, Field = fieldT, deltaField = deltaField)\n",
    "    XCalcBohrJ = PrJ.susceptibility(Temps = T, Field = fieldT, deltaField = deltaField, ion = ion)\n",
    "else:\n",
    "    XCalcBohr = Pr.susceptibility(Temps = T, Field = fieldT, deltaField = deltaField, ion = ion)\n",
    "#####################################################################################################################################################################"
   ]
  },
  {
   "cell_type": "markdown",
   "id": "5b1c51c9",
   "metadata": {},
   "source": [
    "## Use PCF's magnetization and calculate M/H."
   ]
  },
  {
   "cell_type": "code",
   "execution_count": 143,
   "id": "50c74e3e",
   "metadata": {},
   "outputs": [],
   "source": [
    "# Use PCF function to calculate Magnetization (uB/spin) at fixed Field (.1T) over temop range\n",
    "# Divide this magnetization by field to get Susceptibiltiy in (uB/T/spin)\n",
    "#####################################################################################################################################################################\n",
    "Ha = .1\n",
    "magCalcBohrLS = []\n",
    "magCalcBohrJ = []\n",
    "for i in T:\n",
    "    if LS_on:\n",
    "        magCalcBohrLS.append(Pr.magnetization( Temp = i, Field = [0, 0, Ha])[2])\n",
    "        magCalcBohrJ.append(PrJ.magnetization( Temp = i, Field = [0, 0, Ha], ion = ion)[2])\n",
    "    else:\n",
    "        magCalcBohr.append(Pr.magnetization( Temp = i, Field = [0, 0, Ha], ion = ion)[2])\n",
    "\n",
    "susLS = np.array(magCalcBohrLS)/Ha\n",
    "susJ = np.array(magCalcBohrJ)/Ha\n",
    "#####################################################################################################################################################################\n",
    "PCFRatioLS = XCalcBohrLS/susLS\n",
    "PCFRatioJ = XCalcBohrJ/susJ"
   ]
  },
  {
   "cell_type": "markdown",
   "id": "2f33a5d7",
   "metadata": {},
   "source": [
    "## Use PCF's susceptibility perturbation function."
   ]
  },
  {
   "cell_type": "code",
   "execution_count": 144,
   "id": "37c252a4",
   "metadata": {},
   "outputs": [],
   "source": [
    "# Use PCF function to calculate Susceptibility (uB/Tesla/Spin) over T\n",
    "#####################################################################################################################################################################\n",
    "if not LS_on:\n",
    "\tXCalcPert = Pr.susceptibilityPert(ion = ion, Temps = T)\n",
    "#####################################################################################################################################################################\n",
    "\n",
    "# print(XCalcPert)"
   ]
  },
  {
   "cell_type": "markdown",
   "id": "a47e86ae",
   "metadata": {},
   "source": [
    "## Plot"
   ]
  },
  {
   "cell_type": "code",
   "execution_count": 145,
   "id": "89ed76b8",
   "metadata": {},
   "outputs": [
    {
     "data": {
      "image/png": "[encoded data removed]",
      "text/plain": [
       "<Figure size 432x288 with 1 Axes>"
      ]
     },
     "metadata": {
      "needs_background": "light"
     },
     "output_type": "display_data"
    },
    {
     "data": {
      "image/png": "[encoded data removed]",
      "text/plain": [
       "<Figure size 432x288 with 1 Axes>"
      ]
     },
     "metadata": {
      "needs_background": "light"
     },
     "output_type": "display_data"
    },
    {
     "data": {
      "image/png": "[encoded data removed]",
      "text/plain": [
       "<Figure size 432x288 with 1 Axes>"
      ]
     },
     "metadata": {
      "needs_background": "light"
     },
     "output_type": "display_data"
    }
   ],
   "source": [
    "# Plotting\n",
    "#####################################################################################################################################################################\n",
    "# Plot ratio of calculated PCFs (LS)\n",
    "plt.figure()\n",
    "plt.plot(T,PCFRatioLS, label = 'Ratio')\n",
    "plt.xlabel('Temperature (K)')\n",
    "plt.ylabel('Ratio (PCF susc)/(PCF M/H)')\n",
    "plt.legend()\n",
    "plt.title('Ratio of Susceptibilities LS Basis {} Tesla'.format(Ha))\n",
    "plt.show()\n",
    "\n",
    "# Plot ratio of calculated PCFs (J)\n",
    "plt.figure()\n",
    "plt.plot(T,PCFRatioJ, label = 'Ratio')\n",
    "plt.xlabel('Temperature (K)')\n",
    "plt.ylabel('Ratio (PCF susc)/(PCF M/H)')\n",
    "plt.legend()\n",
    "plt.title('Ratio of Susceptibilities J Basis {} Tesla'.format(Ha))\n",
    "plt.show()\n",
    "\n",
    "\n",
    "\n",
    "# # Plot PCF M/H\n",
    "# plt.figure()\n",
    "# plt.plot(T,-1*np.array(sus), label = 'PCF')\n",
    "# plt.xlabel('Temperature (K)')\n",
    "# plt.ylabel('Susceptibility (uB) Tesla^-1 spin^-1')\n",
    "# plt.legend()\n",
    "# plt.title('PCF M/H {} Tesla'.format(Ha))\n",
    "# # plt.show()\n",
    "\n",
    "# #Plot PCF Susc\n",
    "# plt.figure()\n",
    "# plt.plot(T,-1*XCalcBohr, label = 'PCF')\n",
    "# plt.xlabel('Temperature (K)')\n",
    "# plt.ylabel('Susceptibility (uB) Tesla^-1 spin^-1')\n",
    "# plt.legend()\n",
    "# plt.title('PCF Susceptbility {} Tesla '.format(Ha))\n",
    "# # plt.show()\n",
    "\n",
    "\n",
    "M = emuToBohr2(M)\n",
    "H = oeToTesla(H)\n",
    "# Plot experimental susc (M/H)\n",
    "# plt.figure()\n",
    "# plt.plot(T,M/H, label = 'Measured')\n",
    "# plt.xlabel('Temperature (K)')\n",
    "# plt.ylabel('Susceptibility (uB) Tesla^-1 spin^-1')\n",
    "# plt.legend()\n",
    "# plt.title('Measured Susceptbility {} Tesla '.format(Ha))\n",
    "\n",
    "\n",
    "\n",
    "# Overplot all 3\n",
    "plt.figure()\n",
    "plt.plot(T,M/H, label = 'Measured M/H')\n",
    "plt.plot(T,-1*XCalcBohrLS, label = 'PCF Susceptibility')\n",
    "if not LS_on:\n",
    "    plt.plot(T,-1*XCalcPert, label = 'PCF Susceptibility Perturbation')\n",
    "plt.plot(T,-1*np.array(susLS), label = 'PCF M/H')\n",
    "plt.xlabel('Temperature (K)')\n",
    "plt.ylabel('Susceptibility (uB) Tesla^-1 spin^-1')\n",
    "plt.legend()\n",
    "plt.title('Susceptbility All Methods Plotted {} Tesla '.format(Ha))\n",
    "\n",
    "if not LS_on:\n",
    "    #Plot PCF Susc Pert\n",
    "    plt.figure()\n",
    "    plt.plot(T,XCalcPert, label = 'PCF Perturbation')\n",
    "    plt.xlabel('Temperature (K)')\n",
    "    plt.ylabel('Susceptibility (uB) Tesla^-1 spin^-1')\n",
    "    plt.legend()\n",
    "    plt.title('PCF Susceptbility {} Tesla '.format(Ha))\n",
    "    # plt.show()\n",
    "\n",
    "plt.show()\n",
    "#####################################################################################################################################################################"
   ]
  }
 ],
 "metadata": {
  "kernelspec": {
   "display_name": "Python 3 (ipykernel)",
   "language": "python",
   "name": "python3"
  },
  "language_info": {
   "codemirror_mode": {
    "name": "ipython",
    "version": 3
   },
   "file_extension": ".py",
   "mimetype": "text/x-python",
   "name": "python",
   "nbconvert_exporter": "python",
   "pygments_lexer": "ipython3",
   "version": "3.9.7"
  }
 },
 "nbformat": 4,
 "nbformat_minor": 5
}
