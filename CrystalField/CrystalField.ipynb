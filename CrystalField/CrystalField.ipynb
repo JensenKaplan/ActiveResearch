{
 "cells": [
  {
   "cell_type": "markdown",
   "id": "20c2b835",
   "metadata": {},
   "source": [
    "# Crystal Electric Field (CF) Analysis of the Pr4+ ion\n",
    "Here the goal is to use collected inelastic neutron scattering (INS) data to determine the ground state crystal field Hamiltonian. The Stevens' coefficients first guess comes from the grid search. I use PyCrystalField in conjunction with LMFIT to find the true values of the Stevens' Coefficients by fitting predicted energy levels to measured one. I then calculate the CF Hamiltonian and predict the compounds thermodynamic properties. Magnetization (M vs H) and Susceptibility (M vs T) data. \n",
    "\n",
    "It's important to note that I don't actually use Pr4+ as my central ion, I use Ce3+. The correct orbital values for the Ln4+ oxidized states have not been calculated and tabulated. Since the operators depend on electronic orbital states, I can use an electrically equivalent ion, Ce3+, instead of the actual Pr4+ ion."
   ]
  },
  {
   "cell_type": "code",
   "execution_count": 1,
   "id": "513865b6",
   "metadata": {},
   "outputs": [
    {
     "name": "stdout",
     "output_type": "stream",
     "text": [
      " *******************************************************\n",
      " *                PyCrystalField 2.3.1                 *\n",
      " *  Please cite  J. Appl. Cryst. (2021). 54, 356-362   * \n",
      " *    <https://doi.org/10.1107/S160057672001554X>      *\n",
      " *******************************************************\n",
      "\n"
     ]
    }
   ],
   "source": [
    "import sys\n",
    "sys.path.append('..')\n",
    "from JensenTools import *\n",
    "import seaborn as sns\n",
    "sns.set()"
   ]
  },
  {
   "cell_type": "markdown",
   "id": "3d409488",
   "metadata": {},
   "source": [
    "##  Energy, magnetization, and susceptibiltiy functions to be made into LMFIT models."
   ]
  },
  {
   "cell_type": "code",
   "execution_count": 2,
   "id": "74644b31",
   "metadata": {},
   "outputs": [],
   "source": [
    "#####################################################################################################################################################################\n",
    "# Function to be made into an LMFIT model.\n",
    "def energyFit(B40,B60, B44, B64, B20, numlevels, LS, **kwargs ):\n",
    "    numlevels = numlevels\n",
    "    Stev = {} #Creating the Stevens' Coefficients dictionary and assigning values\n",
    "    Stev['B20'] = B20\n",
    "    Stev['B40'] = B40\n",
    "    Stev['B60'] = B60\n",
    "    Stev['B44'] = B44\n",
    "    Stev['B64'] = B64\n",
    "\n",
    "    if kwargs['LS_on']:\n",
    "        Pr = cef.LS_CFLevels.Bdict(Bdict=Stev, L=3, S=0.5, SpinOrbitCoupling = LS) #Create CF_Levels obejct wtih the given coefficients.\n",
    "        Pr.diagonalize()\n",
    "        if kwargs['Kmeans']:\n",
    "            e = kmeansSort(Pr.eigenvalues,numlevels)[:numlevels-1] #Excluding the highest mode which we did not detect in our INS runs\n",
    "#             e.append(e[2]/e[1]) #The aforementioned ratio\n",
    "#             e.append(e[2]/e[0])\n",
    "        else: \n",
    "            e = Pr.eigenvalues\n",
    "    else:\n",
    "        Pr = cef.CFLevels.Bdict(Bdict = Stev, ion = kwargs['ion'])\n",
    "        Pr.diagonalize()\n",
    "        if kwargs['Kmeans']:   \t\n",
    "            e = kmeansSort(Pr.eigenvalues,numlevels)[:numlevels-1] #Excluding the highest mode which we did not detect in our INS runs\n",
    "            e.append(e[1]/e[0]) #The aforementioned ratio\n",
    "        else:\n",
    "            e =  Pr.eigenvalues\n",
    "    return e\n",
    "\n",
    "# Function to be made into an LMFIT model.\n",
    "def magFit(Pr,a,b,c, HTes, **kwargs ):\n",
    "    mag = []\n",
    "    if kwargs['LS_on']:\n",
    "        for i in HTes:\n",
    "            mag.append(a*Pr.magnetization(Temp = Temp, Field = [i, 0, 0])[0] + b*Pr.magnetization(Temp = Temp, Field = [0, i, 0])[1] + c*Pr.magnetization(Temp = Temp, Field = [0, 0, i])[2])\n",
    "    else:\n",
    "        for i in HTes:\n",
    "            mag.append(a*Pr.magnetization(Temp = Temp, Field = [i, 0, 0], ion = ion)[0] + b*Pr.magnetization(Temp = Temp, Field = [0, i, 0], ion = ion)[1] + c*Pr.magnetization(Temp = Temp, Field = [0, 0, i], ion = ion)[2])\n",
    "    return -1*np.array(mag)\n",
    "\n",
    "\n",
    "# Function to be made into an LMFIT model.\n",
    "def inverseSusFit(Pr,Ha,T,a,c, **kwargs ):\n",
    "    mag = []\n",
    "    if kwargs['LS_on']:\n",
    "        for i in T:\n",
    "            mag.append(a*Pr.magnetization(Temp = i, Field = [Ha, 0, 0])[0] + a*Pr.magnetization(Temp = i, Field = [0, Ha, 0])[1] + c*Pr.magnetization(Temp = i, Field = [0, 0, Ha])[2])\n",
    "    else:\n",
    "        for i in T:\n",
    "            mag.append(a*Pr.magnetization(Temp = i, Field = [Ha, 0, 0], ion = ion)[0] + a*Pr.magnetization(Temp = i, Field = [0, Ha, 0], ion = ion)[1] + c*Pr.magnetization(Temp = i, Field = [0, 0, Ha], ion = ion)[2])\n",
    "    \n",
    "    return -Ha/np.array(mag)\n",
    "\n",
    "# Simple function for pritting my parameters after fitting so that I can copy paste the values from output for further iterations.\n",
    "def paramPrint(fittedparams):\n",
    "\tprint()\n",
    "\tfor i in fittedparams:\n",
    "\t\t# print(i, ' = ', i.value)\n",
    "\t\tprint(i, ' = ',fittedparams[i].value )\n",
    "#####################################################################################################################################################################"
   ]
  },
  {
   "cell_type": "markdown",
   "id": "350a74df",
   "metadata": {},
   "source": [
    "## Define kwargs and other important things"
   ]
  },
  {
   "cell_type": "code",
   "execution_count": 3,
   "id": "8f74f5de",
   "metadata": {},
   "outputs": [],
   "source": [
    "# Define important things\n",
    "#####################################################################################################################################################################\n",
    "comp = 'Sr2PrO4'\n",
    "ion = 'Ce3+'\n",
    "who = 'Arun'\n",
    "LS_on = True\n",
    "Kmeans = True\n",
    "molweight = molweight[comp]\n",
    "LSValue = 107.5\n",
    "\n",
    "if LS_on:\n",
    "\tnumlevels = 4\n",
    "\tEmeas = [168, 335,385] # The measured INS magnetic modes\n",
    "else:\n",
    "\tnumlevels = 3\n",
    "\tEmeas = [168, 335, 335/168] # The measured INS magnetic modes, only first 2 for J basis\n",
    "    \n",
    "# The L,S values are as follows for the Pr4+ ion\n",
    "L = 3\n",
    "S = 0.5\n",
    "#####################################################################################################################################################################"
   ]
  },
  {
   "cell_type": "markdown",
   "id": "7bdabee9",
   "metadata": {},
   "source": [
    "## Load the project's data directories from my DropBox"
   ]
  },
  {
   "cell_type": "code",
   "execution_count": 4,
   "id": "fcb52313",
   "metadata": {},
   "outputs": [],
   "source": [
    "saveDir = getSaveDir('m',comp = comp)\n",
    "MHDir = getSaveDir('m',comp = comp, dataType = 'MH')\n",
    "MTDir = getSaveDir('m',comp = comp, dataType = 'MT')"
   ]
  },
  {
   "cell_type": "markdown",
   "id": "912a42eb",
   "metadata": {},
   "source": [
    "## Starting values from grid search for both LS and J basis"
   ]
  },
  {
   "cell_type": "code",
   "execution_count": 5,
   "id": "543d2cac",
   "metadata": {},
   "outputs": [],
   "source": [
    "# From GridSearch For LS\n",
    "#####################################################################################################################################################################\n",
    "if LS_on:\n",
    "\tLS = LSValue\n",
    "\tx =  0.03629536921151444\n",
    "\tbpf = -0.6570713391739674\n",
    "\t# Assigning the coefficients from grid search\n",
    "\t# Enforcing cubic constraints as a start\n",
    "\t# and including the B20 term which is needed for tetragonal symmetry\n",
    "\tB40 = bpf\n",
    "\tB60 = x*bpf\n",
    "\tB44 = 5*B40\n",
    "\tB64 = -21*B60\n",
    "\tB20 = 0\n",
    "#####################################################################################################################################################################\n",
    "\n",
    "# From GridSearch For J\n",
    "#####################################################################################################################################################################\n",
    "if not LS_on:\n",
    "\tx = -1.0000\n",
    "\tbpf = -0.4673\n",
    "\t# Assigning the coefficients from grid search\n",
    "\t# Enforcing cubic constraints as a start\n",
    "\t# and including the B20 term which is needed for tetragonal symmetry\t\n",
    "\tB40 = bpf\n",
    "\tB60 = x*bpf\n",
    "\tB44 = 5*B40\n",
    "\tB64 = -21*B60\n",
    "\tB20 = 0\n",
    "#####################################################################################################################################################################"
   ]
  },
  {
   "cell_type": "markdown",
   "id": "acf594c5",
   "metadata": {},
   "source": [
    "## Best fit parameters from previous iterations"
   ]
  },
  {
   "cell_type": "code",
   "execution_count": 6,
   "id": "c9aea48a",
   "metadata": {},
   "outputs": [],
   "source": [
    "# #Best Fit LS\n",
    "# #####################################################################################################################################################################\n",
    "# if LS_on:\n",
    "# \tB40  =  -0.6568663783690575\n",
    "# \tB60  =  -0.02328250024945387\n",
    "# \tLS   =  107.5\n",
    "# \tB44  =  -3.1415463304732714\n",
    "# \tB64  =  0.504906552605772\n",
    "# \tB20  =  0.4858075931009187\n",
    "# #####################################################################################################################################################################\n",
    "\n",
    "# #Fix B20 to different values, check g tensor \n",
    "\n",
    "# # Best Fit J\n",
    "# #####################################################################################################################################################################\n",
    "# if not LS_on:\n",
    "# \t# Red Chi = ~5\n",
    "# \t# B40  =  -0.5572886105373519\n",
    "# \t# B60  =  0.4673\n",
    "# \t# B44  =  -3.0342208316734602\n",
    "# \t# B64  =  -9.8133\n",
    "# \t# B20  =  12.606195910392971\n",
    "\n",
    "# \t# # Red Chi = ~.01\n",
    "# \tB40  =  -0.5572886105373519\n",
    "# \tB60  =  0.4673\n",
    "# \tB44  =  -3.0946858584804335\n",
    "# \tB64  =  -9.8133\n",
    "# \tB20  =  12.606195720794622\n",
    "# #####################################################################################################################################################################\n"
   ]
  },
  {
   "cell_type": "markdown",
   "id": "9dd1b549",
   "metadata": {},
   "source": [
    "## LMFIT model creation, fitting, and creating Stevens' Coefficients dictionary from best fit values."
   ]
  },
  {
   "cell_type": "code",
   "execution_count": 7,
   "id": "c8e911fe",
   "metadata": {},
   "outputs": [
    {
     "name": "stdout",
     "output_type": "stream",
     "text": [
      "\n",
      "\n",
      "Fitted parameters:\n",
      "Name     Value      Min      Max   Stderr     Vary     Expr Brute_Step\n",
      "B20         0     -inf      inf     None    False     None     None\n",
      "B40   -0.6571     -inf      inf     None    False     None     None\n",
      "B44    -3.285     -inf      inf     None    False     None     None\n",
      "B60  -0.02385     -inf      inf     None    False     None     None\n",
      "B64    0.5008     -inf      inf     None    False     None     None\n",
      "LS      107.5     -inf      inf     None    False     None     None\n",
      "\n",
      "Reduced Chi Sqr = 231.1283309184039\n",
      "\n",
      "B40  =  -0.6570713391739674\n",
      "B60  =  -0.023848646853623378\n",
      "B44  =  -3.285356695869837\n",
      "B64  =  0.5008215839260909\n",
      "B20  =  0\n",
      "LS  =  107.5\n"
     ]
    }
   ],
   "source": [
    "# Make LMFIT model and fit\n",
    "# Create stevens coefficients dictionary from fitted parameters\n",
    "#####################################################################################################################################################################\n",
    "eModel = Model(energyFit, independent_vars = ['numlevels'])\n",
    "params = eModel.make_params()\n",
    "\n",
    "# \n",
    "# B40  =  -0.6570713391739674\n",
    "# B60  =  -0.01909453568222796\n",
    "# B44  =  -3.6860037014435165\n",
    "# B64  =  0.5701984705510157\n",
    "# B20  =  0.4522847388230056\n",
    "# LS  =  107.5\n",
    "\n",
    "# Since we only have 4 training points, only 4 parameters can vary at once.\n",
    "params['B20'].set(value = B20, vary = False)\n",
    "params['B40'].set(value=B40, vary = False)\n",
    "params['B60'].set(value=B60, vary = False)\n",
    "params['B44'].set(value = B44, vary = False)\n",
    "params['B64'].set(value = B64, vary = False)\n",
    "\n",
    "if LS_on:\n",
    "    params['LS'].set(value=LS, vary=False)\n",
    "    \n",
    "# Fit model to data\n",
    "fitted = eModel.fit(Emeas,params, numlevels = numlevels, LS_on = LS_on, Kmeans = Kmeans, ion = ion)\n",
    "# Create a dictionary of the fitted parameters (stevens coefficients)\n",
    "stev = {'B40': fitted.params['B40'].value, 'B60': fitted.params['B60'].value, 'B44' : fitted.params['B44'].value, 'B64' : fitted.params['B64'].value, 'B20' :fitted.params['B20'].value }\n",
    "#####################################################################################################################################################################\n",
    "\n",
    "# Print the parameters and reduced chi sqr value\n",
    "#####################################################################################################################################################################\n",
    "print('\\n\\nFitted parameters:')\n",
    "fitted.params.pretty_print()\n",
    "print('\\nReduced Chi Sqr = {}'.format(fitted.result.redchi))\n",
    "#Uncomment to print out in easy copy paste format\n",
    "paramPrint(fitted.params)\n",
    "#####################################################################################################################################################################"
   ]
  },
  {
   "cell_type": "markdown",
   "id": "399e550a",
   "metadata": {},
   "source": [
    "## PCF G Tensor"
   ]
  },
  {
   "cell_type": "code",
   "execution_count": 8,
   "id": "8c894ed4",
   "metadata": {},
   "outputs": [
    {
     "name": "stdout",
     "output_type": "stream",
     "text": [
      "\n",
      "\n",
      "Energy values as measured by INS (meV): [168, 335, 385]\n",
      "\n",
      " Eigenvalues \t Eigenvectors\n",
      "\t\t---------------------------------------------------------------------------------------------------------\n",
      "0.00000 \t|  [ 0.     0.859 -0.302  0.     0.     0.     0.     0.     0.     0.283\n",
      " -0.302  0.     0.     0.   ]  |\n",
      "0.00000 \t|  [ 0.     0.     0.    -0.302  0.283  0.     0.     0.     0.     0.\n",
      "  0.    -0.302  0.859  0.   ]  |\n",
      "0.00000 \t|  [ 0.068  0.     0.     0.     0.     0.     0.    -0.696  0.715  0.\n",
      "  0.     0.     0.     0.   ]  |\n",
      "0.00000 \t|  [ 0.     0.     0.     0.     0.    -0.715  0.696  0.     0.     0.\n",
      "  0.     0.     0.    -0.068]  |\n",
      "171.87001 \t|  [ 0.     0.     0.     0.55  -0.631  0.     0.     0.     0.     0.\n",
      "  0.     0.247  0.488  0.   ]  |\n",
      "171.87001 \t|  [ 0.    -0.488 -0.247  0.     0.     0.     0.     0.     0.     0.631\n",
      " -0.55   0.     0.     0.   ]  |\n",
      "352.68571 \t|  [0.645 0.    0.    0.    0.    0.    0.    0.577 0.5   0.    0.    0.\n",
      " 0.    0.   ]  |\n",
      "352.68571 \t|  [ 0.     0.     0.     0.     0.    -0.5   -0.577  0.     0.     0.\n",
      "  0.     0.     0.    -0.645]  |\n",
      "404.12129 \t|  [ 0.     0.     0.     0.     0.     0.488  0.428  0.     0.     0.\n",
      "  0.     0.     0.    -0.761]  |\n",
      "404.12129 \t|  [0.    0.    0.    0.492 0.71  0.    0.    0.    0.    0.    0.    0.492\n",
      " 0.113 0.   ]  |\n",
      "404.12129 \t|  [ 0.761  0.     0.     0.     0.     0.     0.    -0.428 -0.488  0.\n",
      "  0.     0.     0.     0.   ]  |\n",
      "404.12129 \t|  [ 0.    -0.113 -0.492  0.     0.     0.     0.     0.     0.    -0.71\n",
      " -0.492  0.     0.     0.   ]  |\n",
      "1062.08551 \t|  [ 0.     0.     0.    -0.603 -0.138  0.     0.     0.     0.     0.\n",
      "  0.     0.778  0.107  0.   ]  |\n",
      "1062.08551 \t|  [ 0.    -0.107 -0.778  0.     0.     0.     0.     0.     0.     0.138\n",
      "  0.603  0.     0.     0.   ]  |\n",
      "\t\t---------------------------------------------------------------------------------------------------------\n",
      "\n",
      "                    gx                  gy                  gz\n",
      "gx  1.446242+0.000000j  0.000000+0.000000j  0.000000+0.000000j\n",
      "gy  0.000000+0.000000j -1.446242+0.000000j  0.000000+0.000000j\n",
      "gz  0.000000+0.000000j  0.000000+0.000000j  2.993598+0.000000j\n"
     ]
    }
   ],
   "source": [
    "# CF Analysis\n",
    "#####################################################################################################################################################################\n",
    "# Create the CFLevels object and diagonalize it\n",
    "if LS_on:\n",
    "    Pr = cef.LS_CFLevels.Bdict(Bdict = stev, L = L, S = S, SpinOrbitCoupling=fitted.params['LS'].value)\n",
    "    Pr.diagonalize()\n",
    "else:\n",
    "    Pr = cef.CFLevels.Bdict(Bdict = stev, ion = 'Ce3+')\n",
    "    Pr.diagonalize()\n",
    "\n",
    "# Print final matrix\n",
    "print('\\n\\nEnergy values as measured by INS (meV): {}'.format(Emeas[:]))\n",
    "Pr.printEigenvectors()\n",
    "\n",
    "# Calculate and neatly print G-Tensor using Pandas\n",
    "gt = Pr.gtensor()\n",
    "rows = ['gx','gy','gz']\n",
    "df = pd.DataFrame(gt, columns = rows, index = rows)\n",
    "print(df)\n",
    "#####################################################################################################################################################################"
   ]
  },
  {
   "cell_type": "markdown",
   "id": "14ebaad2",
   "metadata": {},
   "source": [
    "## Loading susceptibility (M vs T) data."
   ]
  },
  {
   "cell_type": "code",
   "execution_count": 9,
   "id": "d5f89754",
   "metadata": {},
   "outputs": [
    {
     "ename": "NameError",
     "evalue": "name 'samplemass' is not defined",
     "output_type": "error",
     "traceback": [
      "\u001b[0;31m---------------------------------------------------------------------------\u001b[0m",
      "\u001b[0;31mNameError\u001b[0m                                 Traceback (most recent call last)",
      "\u001b[0;32m/var/folders/vq/mmg58sj542vb8d603nwpj5j00000gn/T/ipykernel_5079/949646278.py\u001b[0m in \u001b[0;36m<module>\u001b[0;34m\u001b[0m\n\u001b[1;32m     10\u001b[0m     \u001b[0mM\u001b[0m \u001b[0;34m=\u001b[0m \u001b[0mnormalize\u001b[0m\u001b[0;34m(\u001b[0m\u001b[0mM\u001b[0m\u001b[0;34m,\u001b[0m\u001b[0mmass\u001b[0m\u001b[0;34m,\u001b[0m\u001b[0mmolweight\u001b[0m\u001b[0;34m,\u001b[0m \u001b[0;34m'spin'\u001b[0m\u001b[0;34m)\u001b[0m\u001b[0;34m\u001b[0m\u001b[0;34m\u001b[0m\u001b[0m\n\u001b[1;32m     11\u001b[0m     \u001b[0mErr\u001b[0m \u001b[0;34m=\u001b[0m \u001b[0mnormalize\u001b[0m\u001b[0;34m(\u001b[0m\u001b[0mErr\u001b[0m\u001b[0;34m,\u001b[0m\u001b[0mmass\u001b[0m\u001b[0;34m,\u001b[0m\u001b[0mmolweight\u001b[0m\u001b[0;34m,\u001b[0m \u001b[0;34m'spin'\u001b[0m\u001b[0;34m)\u001b[0m\u001b[0;34m\u001b[0m\u001b[0;34m\u001b[0m\u001b[0m\n\u001b[0;32m---> 12\u001b[0;31m     \u001b[0mMTdata\u001b[0m\u001b[0;34m[\u001b[0m\u001b[0mmeasType\u001b[0m\u001b[0;34m]\u001b[0m \u001b[0;34m=\u001b[0m \u001b[0;34m[\u001b[0m\u001b[0mM\u001b[0m\u001b[0;34m,\u001b[0m\u001b[0mH\u001b[0m\u001b[0;34m,\u001b[0m\u001b[0mT\u001b[0m\u001b[0;34m,\u001b[0m\u001b[0mErr\u001b[0m\u001b[0;34m,\u001b[0m\u001b[0msamplemass\u001b[0m\u001b[0;34m]\u001b[0m\u001b[0;34m\u001b[0m\u001b[0;34m\u001b[0m\u001b[0m\n\u001b[0m\u001b[1;32m     13\u001b[0m     \u001b[0;31m# plt.errorbar(H,M, yerr = Err, label = name)\u001b[0m\u001b[0;34m\u001b[0m\u001b[0;34m\u001b[0m\u001b[0m\n\u001b[1;32m     14\u001b[0m \u001b[0;34m\u001b[0m\u001b[0m\n",
      "\u001b[0;31mNameError\u001b[0m: name 'samplemass' is not defined"
     ]
    }
   ],
   "source": [
    "runs = []\n",
    "for i in os.listdir(MTDir):\n",
    "    if i.endswith('.DAT') or i.endswith('.dat'): #This was a safeguard against a situation arising at an earlier implementation of my code.\n",
    "        runs.append(i)\n",
    "\n",
    "MTdata = {}\n",
    "# plt.figure()\n",
    "for i in runs:\n",
    "    M,H,T,Err,mass,measType = getData(i,MTDir, who = who, dataType = 'MT')\n",
    "    M = normalize(M,mass,molweight, 'spin')\n",
    "    Err = normalize(Err,mass,molweight, 'spin')    \n",
    "    MTdata[measType] = [M,H,T,Err,samplemass]\n",
    "    # plt.errorbar(H,M, yerr = Err, label = name)\n",
    "    \n",
    "runs = []\n",
    "for i in os.listdir(MHDir):\n",
    "    if i.endswith('.DAT') or i.endswith('.dat'): #This was a safeguard against a situation arising at an earlier implementation of my code.\n",
    "        runs.append(i)\n",
    "        \n",
    "# Normalizes and stores data as well as plotting in Emu/Oe for all temperatures.\n",
    "# plt.figure()\n",
    "MHdata = {}\n",
    "for i in runs: \n",
    "    M, H, Err, mass, T = getData(i,MHDir,who = who, dataType = 'MH')\n",
    "    M = normalize(M,mass,molweight,'spin')\n",
    "    Err = normalize(Err,mass,molweight,'spin')\n",
    "    MHdata[T] = [M,H,Err,mass,i]\n",
    "#     plt.errorbar(H, M, yerr = Err, label = T)"
   ]
  },
  {
   "cell_type": "markdown",
   "id": "0515b8a2",
   "metadata": {},
   "source": [
    "## Calculating PCF susceptibility and plotting against measurement."
   ]
  },
  {
   "cell_type": "code",
   "execution_count": null,
   "id": "d38a03e6",
   "metadata": {},
   "outputs": [],
   "source": [
    "M,H,T,Err,samplemass = MTdata['FC']\n",
    "\n",
    "MBohr = emuToBohr2(M)\n",
    "HTes = oeToTesla(H)\n",
    "X = MBohr/HTes\n",
    "Xi  = 1/X\n",
    "\n",
    "if LS_on:\n",
    "    XPCF = -1*Pr.susceptibility(Temps = T, Field = .1, deltaField = .001)\n",
    "else:\n",
    "    XPCF = -1*Pr.susceptibility(Temps = T, Field = .1, deltaField = .001, ion = ion)\n",
    "    \n",
    "XiPCF = 1/XPCF\n",
    "\n",
    "plt.figure()\n",
    "plt.plot(T,Xi, label = 'Measured H/M')\n",
    "plt.plot(T,XiPCF, label = 'PCF Susceptibility Powder Average')\n",
    "plt.xlabel('Temperature (K)')\n",
    "plt.ylabel('X^-1 (uB^-1 Tesla spin)')\n",
    "plt.legend()\n",
    "plt.title('Inverse Susceptbility {} Tesla '.format(.1))\n",
    "plt.show()"
   ]
  },
  {
   "cell_type": "markdown",
   "id": "3fd277ac",
   "metadata": {},
   "source": [
    "## Loading magnetization data for 20K run. Calculating PCF magnetization (powder average) and plotting the 2."
   ]
  },
  {
   "cell_type": "code",
   "execution_count": null,
   "id": "3b2004ba",
   "metadata": {},
   "outputs": [],
   "source": [
    "# Choosing 20K run\n",
    "Tmh = '20K'\n",
    "Temp = getTemp(MHdata[Tmh][-1], who = who)\n",
    "M, H, Err, mass, filename = MHdata[Tmh]\n",
    "M = emuToBohr2(M)\n",
    "H = oeToTesla(H)\n",
    "\n",
    "mag = []\n",
    "for i in H:\n",
    "    if LS_on:\n",
    "        mag.append(1/3*Pr.magnetization(Temp = Temp, Field = [i, 0, 0])[0] + 1/3*Pr.magnetization(Temp = Temp, Field = [0, i, 0])[1] + 1/3*Pr.magnetization(Temp = Temp, Field = [0, 0, i])[2])\n",
    "    else:\n",
    "        mag.append(1/3*Pr.magnetization(Temp = Temp, Field = [i, 0, 0], ion=ion)[0] + 1/3*Pr.magnetization(Temp = Temp, Field = [0, i, 0], ion = ion)[1] + 1/3*Pr.magnetization(Temp = Temp, Field = [0, 0, i], ion = ion)[2])\n",
    "\n",
    "mag = -1*np.array(mag)\n",
    "\n",
    "plt.figure()\n",
    "plt.plot(H,M, label = 'Measured')\n",
    "plt.plot(H, mag , label = 'PCF Powder Average')\n",
    "plt.xlabel('Field (T)')\n",
    "plt.ylabel('M (uB spin^-1)')\n",
    "plt.legend()\n",
    "plt.title('Magnetization at T  = {} K'.format(Tmh))\n",
    "plt.show()"
   ]
  },
  {
   "cell_type": "markdown",
   "id": "0f6d0902",
   "metadata": {},
   "source": [
    "## Fitting inverse susceptibility. The powder averaging coefficients are the parameters."
   ]
  },
  {
   "cell_type": "code",
   "execution_count": null,
   "id": "27053a92",
   "metadata": {},
   "outputs": [],
   "source": [
    "# # Make LMFIT model and fit\n",
    "# # Create stevens coefficients dictionary from fitted parameters\n",
    "# #####################################################################################################################################################################\n",
    "# susIModel = Model(inverseSusFit, independent_vars = ['Ha', 'Pr', 'T'])\n",
    "# params = susIModel.make_params()\n",
    "\n",
    "# # Bounded\n",
    "# # params['a'].set(value = 1/3, min = .0001, max = 1)\n",
    "# # params['b'].set(value = 1/3, min = .0001, max = 1)\n",
    "# # params['c'].set(value = 1/3, min = .0001, max = 1)\n",
    "# params['a'].set(value = 1/3, min = .0001, max = 1)\n",
    "# params.add('c', expr = '1-a' )\n",
    "\n",
    "# ## Unbounded\n",
    "# # params['a'].set(value = 1/3)\n",
    "# # params['b'].set(value = 1/3)\n",
    "# # params['c'].set(value = 1/3)\n",
    "\n",
    "# # Fit model to data\n",
    "# Ha = .1\n",
    "# XFitted = susIModel.fit(Xi,params,Pr = Pr, Ha = Ha, T = T, LS_on = LS_on, ion = ion)\n",
    "# XFitted.params.pretty_print()"
   ]
  },
  {
   "cell_type": "markdown",
   "id": "45c4dd73",
   "metadata": {},
   "source": [
    "## Calculate powder averaged magnetization from fitted susceptibiltiy coefficients."
   ]
  },
  {
   "cell_type": "code",
   "execution_count": null,
   "id": "d03893eb",
   "metadata": {},
   "outputs": [],
   "source": [
    "# # Choosing 20K run\n",
    "# Tmh = '20K'\n",
    "# Temp = getTemp(MHdata[Tmh][-1], who = who)\n",
    "# M, H, Err, mass, filename = MHdata[Tmh]\n",
    "# M = emuToBohr2(M)\n",
    "# H = oeToTesla(H)\n",
    "\n",
    "# mag = []\n",
    "# for i in H:\n",
    "#     if LS_on:\n",
    "#         mag.append(XFitted.params['a']*Pr.magnetization(Temp = Temp, Field = [i, 0, 0])[0] + XFitted.params['a']*Pr.magnetization(Temp = Temp, Field = [0, i, 0])[1] + XFitted.params['c']*Pr.magnetization(Temp = Temp, Field = [0, 0, i])[2])\n",
    "#     else:\n",
    "#         mag.append(XFitted.params['a']*Pr.magnetization(Temp = Temp, Field = [i, 0, 0], ion=ion)[0] + XFitted.params['a']*Pr.magnetization(Temp = Temp, Field = [0, i, 0], ion = ion)[1] + XFitted.params['c']*Pr.magnetization(Temp = Temp, Field = [0, 0, i], ion = ion)[2])\n",
    "\n",
    "# mag = -1*np.array(mag)\n",
    "\n",
    "\n",
    "# plt.figure()\n",
    "# plt.plot(T,Xi, label = 'Measured H/M')\n",
    "# plt.plot(T,XFitted.best_fit, label = 'PCF Powder Average Fit')\n",
    "# plt.xlabel('Temperature (K)')\n",
    "# plt.ylabel('X^-1 (uB^-1 Tesla spin)')\n",
    "# plt.legend()\n",
    "# plt.title('Inverse Susceptbility {} Tesla '.format(.1))\n",
    "# plt.show()\n",
    "\n",
    "# plt.figure()\n",
    "# plt.plot(H,M, label = 'Measured M')\n",
    "# plt.plot(H, mag , label = 'PCF Powder Average Fit Extrapolated')\n",
    "# plt.xlabel('Field (T)')\n",
    "# plt.ylabel('M (uB spin^-1)')\n",
    "# plt.legend()\n",
    "# plt.title('Magnetization at T  = {} K'.format(Tmh))\n",
    "# plt.show()"
   ]
  },
  {
   "cell_type": "markdown",
   "id": "ce0bd58d",
   "metadata": {},
   "source": [
    "## PCF Neutron Spectrum\n",
    "Define: an energy array that will be used to calculate lineshape; neutron incident energy, Ei (mev); temperature (K); instrument resolution (meV).\n",
    "\n",
    "Instrument resolution is typically ~3% - 5% of the Ei.\n",
    "\n",
    "Lineshape fitting would be ideal for determining the CF Hamiltonian; however, nuances arise. If not all magnetic modes are seen at a single Ei then certain scaling has to be taken into account to adjust the intensities of the signal. For this reason we decided to go down the route of fitting to energy levels."
   ]
  },
  {
   "cell_type": "code",
   "execution_count": null,
   "id": "3af009fe",
   "metadata": {
    "scrolled": true
   },
   "outputs": [],
   "source": [
    "# ## PCF Neutron Spectrum\n",
    "#####################################################################################################################################################################\n",
    "Ei = 700\n",
    "Temp = 4.82\n",
    "res = 9\n",
    "energy = np.linspace(.01,Ei,1000)\n",
    "\n",
    "CalculatedSpectrum = Pr.neutronSpectrum(energy, Temp=Temp, Ei=Ei, ResFunc = lambda x: res )\n",
    "# ResFunc = lambda x: 9 if (energy < 200) else 21\n",
    "plt.figure()\n",
    "plt.plot(energy,CalculatedSpectrum)\n",
    "plt.ylabel('Intensity (arb. units)')\n",
    "plt.xlabel('Energy (meV)')\n",
    "plt.title('PCF Spectrum: Ei = {}meV, Temp = {}K, Res = {}'.format(Ei,Temp,res))\n",
    "plt.show()\n",
    "#####################################################################################################################################################################"
   ]
  },
  {
   "cell_type": "markdown",
   "id": "c4f26568",
   "metadata": {},
   "source": [
    "## Print Hamiltonian in LaTex Format\n",
    "\n",
    "## Convert our fitted Stevens' to Wybourne and print"
   ]
  },
  {
   "cell_type": "code",
   "execution_count": null,
   "id": "39343d6f",
   "metadata": {},
   "outputs": [],
   "source": [
    "print()\n",
    "Pr.printLaTexEigenvectors()\n",
    "print()\n",
    "\n",
    "wyb = cef.StevensToWybourne('Ce3+',stev, LS=True)\n",
    "print(\"Fitted coefficients in Wybourne's\")\n",
    "print(wyb)"
   ]
  }
 ],
 "metadata": {
  "kernelspec": {
   "display_name": "Python 3 (ipykernel)",
   "language": "python",
   "name": "python3"
  },
  "language_info": {
   "codemirror_mode": {
    "name": "ipython",
    "version": 3
   },
   "file_extension": ".py",
   "mimetype": "text/x-python",
   "name": "python",
   "nbconvert_exporter": "python",
   "pygments_lexer": "ipython3",
   "version": "3.9.7"
  }
 },
 "nbformat": 4,
 "nbformat_minor": 5
}
