{
 "cells": [
  {
   "cell_type": "markdown",
   "id": "20c2b835",
   "metadata": {},
   "source": [
    "# Crystal Electric Field (CF) Analysis of the Pr4+ ion\n",
    "Here the goal is to use collected inelastic neutron scattering (INS) data to determine the ground state crystal field Hamiltonian. The Stevens' coefficients first guess comes from the grid search. I use PyCrystalField in conjunction with LMFIT to find the true values of the Stevens' Coefficients by fitting predicted energy levels to measured one. I then calculate the CF Hamiltonian and predict the compounds thermodynamic properties. Magnetization (M vs H) and Susceptibility (M vs T) data. \n",
    "\n",
    "It's important to note that I don't actually use Pr4+ as my central ion, I use Ce3+. The correct orbital values for the Ln4+ oxidized states have not been calculated and tabulated. Since the operators depend on electronic orbital states, I can use an electrically equivalent ion, Ce3+, instead of the actual Pr4+ ion."
   ]
  },
  {
   "cell_type": "code",
   "execution_count": 95,
   "id": "513865b6",
   "metadata": {},
   "outputs": [],
   "source": [
    "import sys\n",
    "sys.path.append('..')\n",
    "from JensenTools import *\n",
    "import seaborn as sns\n",
    "sns.set()"
   ]
  },
  {
   "cell_type": "markdown",
   "id": "3d409488",
   "metadata": {},
   "source": [
    "##  Energy function to be made into LMFIT model"
   ]
  },
  {
   "cell_type": "code",
   "execution_count": 96,
   "id": "74644b31",
   "metadata": {},
   "outputs": [],
   "source": [
    "#####################################################################################################################################################################\n",
    "# Simple function for pritting my parameters after fitting so that I can copy paste the values from output for further iterations.\n",
    "def paramPrint(fittedparams):\n",
    "\tprint()\n",
    "\tfor i in fittedparams:\n",
    "\t\t# print(i, ' = ', i.value)\n",
    "\t\tprint(i, ' = ',fittedparams[i].value )\n",
    "\n",
    "# Function to be made into an LMFIT model.\n",
    "def energyFit(B40,B60, B44, B64, B20, numlevels, LS, **kwargs ):\n",
    "\tnumlevels = numlevels\n",
    "\tStev = {} #Creating the Stevens' Coefficients dictionary and assigning values\n",
    "\tStev['B20'] = B20\n",
    "\tStev['B40'] = B40\n",
    "\tStev['B60'] = B60\n",
    "\tStev['B44'] = B44\n",
    "\tStev['B64'] = B64\n",
    "\n",
    "\tif kwargs['LS_on']:\n",
    "\t\tPr = cef.LS_CFLevels.Bdict(Bdict=Stev, L=3, S=0.5, SpinOrbitCoupling = LS) #Create CF_Levels obejct wtih the given coefficients.\n",
    "\t\tPr.diagonalize()\n",
    "\t\tif kwargs['Kmeans']:\n",
    "\t\t\te = kmeansSort(Pr.eigenvalues,numlevels)[:numlevels-1] #Excluding the highest mode which we did not detect in our INS runs\n",
    "\t\t\t# e.append(e[2]/e[1]) #The aforementioned ratio\n",
    "\t\telse: \n",
    "\t\t\te = Pr.eigenvalues\n",
    "\telse:\n",
    "\t\tPr = cef.CFLevels.Bdict(Bdict = Stev, ion = kwargs['ion'])\n",
    "\t\tPr.diagonalize()\n",
    "\t\tif kwargs['Kmeans']:   \t\n",
    "\t\t\te = kmeansSort(Pr.eigenvalues,numlevels)[:numlevels-1] #Excluding the highest mode which we did not detect in our INS runs\n",
    "\t\t\te.append(e[1]/e[0]) #The aforementioned ratio\n",
    "\t\telse:\n",
    "\t\t\te =  Pr.eigenvalues\n",
    "\treturn e\n",
    "\n",
    "# Function to be made into an LMFIT model.\n",
    "def magFit(Pr,a,b,c, HTes, **kwargs ):\n",
    "    mag = []\n",
    "    if kwargs['LS_on']:\n",
    "        for i in HTes:\n",
    "            mag.append(a*Pr.magnetization(Temp = Temp, Field = [i, 0, 0])[0] + b*Pr.magnetization(Temp = Temp, Field = [0, i, 0])[1] + c*Pr.magnetization(Temp = Temp, Field = [0, 0, i])[2])\n",
    "    else:\n",
    "        for i in HTes:\n",
    "            mag.append(a*Pr.magnetization(Temp = Temp, Field = [i, 0, 0], ion = ion)[0] + b*Pr.magnetization(Temp = Temp, Field = [0, i, 0], ion = ion)[1] + c*Pr.magnetization(Temp = Temp, Field = [0, 0, i], ion = ion)[2])\n",
    "    return -1*np.array(mag)\n",
    "\n",
    "\n",
    "# Function to be made into an LMFIT model.\n",
    "def inverseSusFit(Pr,Ha,T,a,c, **kwargs ):\n",
    "    mag = []\n",
    "    if kwargs['LS_on']:\n",
    "        for i in T:\n",
    "            mag.append(a*Pr.magnetization(Temp = i, Field = [Ha, 0, 0])[0] + a*Pr.magnetization(Temp = i, Field = [0, Ha, 0])[1] + c*Pr.magnetization(Temp = i, Field = [0, 0, Ha])[2])\n",
    "    else:\n",
    "        for i in T:\n",
    "            mag.append(a*Pr.magnetization(Temp = i, Field = [Ha, 0, 0], ion = ion)[0] + a*Pr.magnetization(Temp = i, Field = [0, Ha, 0], ion = ion)[1] + c*Pr.magnetization(Temp = i, Field = [0, 0, Ha], ion = ion)[2])\n",
    "    \n",
    "    return -Ha/np.array(mag)\n",
    "#####################################################################################################################################################################"
   ]
  },
  {
   "cell_type": "markdown",
   "id": "350a74df",
   "metadata": {},
   "source": [
    "## Define kwargs and other important things"
   ]
  },
  {
   "cell_type": "code",
   "execution_count": 97,
   "id": "8f74f5de",
   "metadata": {},
   "outputs": [],
   "source": [
    "# Define important things\n",
    "#####################################################################################################################################################################\n",
    "comp = 'Sr2PrO4'\n",
    "ion = 'Ce3+'\n",
    "who = 'Arun'\n",
    "LS_on = False\n",
    "Kmeans = True\n",
    "molweight = molweight[comp]\n",
    "LSValue = 100\n",
    "\n",
    "if LS_on:\n",
    "\tnumlevels = 4\n",
    "\tEmeas = [168, 335,385] # The measured INS magnetic modes\n",
    "else:\n",
    "\tnumlevels = 3\n",
    "\tEmeas = [168, 335, 335/168] # The measured INS magnetic modes, only first 2 for J basis\n",
    "    \n",
    "# The L,S values are as follows for the Pr4+ ion\n",
    "L = 3\n",
    "S = 0.5\n",
    "#####################################################################################################################################################################"
   ]
  },
  {
   "cell_type": "markdown",
   "id": "7bdabee9",
   "metadata": {},
   "source": [
    "## Load the project's data directories from my DropBox"
   ]
  },
  {
   "cell_type": "code",
   "execution_count": 98,
   "id": "fcb52313",
   "metadata": {},
   "outputs": [],
   "source": [
    "saveDir = getSaveDir('m',comp = comp)\n",
    "MHDir = getSaveDir('m',comp = comp, dataType = 'MH')\n",
    "MTDir = getSaveDir('m',comp = comp, dataType = 'MT')"
   ]
  },
  {
   "cell_type": "markdown",
   "id": "912a42eb",
   "metadata": {},
   "source": [
    "## Starting values from grid search for both LS and J basis"
   ]
  },
  {
   "cell_type": "code",
   "execution_count": 99,
   "id": "543d2cac",
   "metadata": {},
   "outputs": [],
   "source": [
    "# From GridSearch For LS\n",
    "#####################################################################################################################################################################\n",
    "if LS_on:\n",
    "\tLS = LSValue\n",
    "\tx =  0.03629536921151444\n",
    "\tbpf = -0.6570713391739674\n",
    "\t# Assigning the coefficients from grid search\n",
    "\t# Enforcing cubic constraints as a start\n",
    "\t# and including the B20 term which is needed for tetragonal symmetry\n",
    "\tB40 = bpf\n",
    "\tB60 = x*bpf\n",
    "\tB44 = 5*B40\n",
    "\tB64 = -21*B60\n",
    "\tB20 = 0\n",
    "#####################################################################################################################################################################\n",
    "\n",
    "# From GridSearch For J\n",
    "#####################################################################################################################################################################\n",
    "if not LS_on:\n",
    "\tx = -1.0000\n",
    "\tbpf = -0.4673\n",
    "\t# Assigning the coefficients from grid search\n",
    "\t# Enforcing cubic constraints as a start\n",
    "\t# and including the B20 term which is needed for tetragonal symmetry\t\n",
    "\tB40 = bpf\n",
    "\tB60 = x*bpf\n",
    "\tB44 = 5*B40\n",
    "\tB64 = -21*B60\n",
    "\tB20 = 0\n",
    "#####################################################################################################################################################################"
   ]
  },
  {
   "cell_type": "markdown",
   "id": "acf594c5",
   "metadata": {},
   "source": [
    "## Best fit parameters from previous iterations"
   ]
  },
  {
   "cell_type": "code",
   "execution_count": 100,
   "id": "c9aea48a",
   "metadata": {},
   "outputs": [],
   "source": [
    "#Best Fit LS\n",
    "#####################################################################################################################################################################\n",
    "if LS_on:\t\n",
    "\tB40  =  -0.6568663783690575\n",
    "\tB60  =  -0.02328250024945387\n",
    "\tLS  =  100.00007580463522\n",
    "\tB44  =  -3.1415463304732714\n",
    "\tB64  =  0.504906552605772\n",
    "\tB20  =  0.4858075931009187\n",
    "#####################################################################################################################################################################\n",
    "\n",
    "#Fix B20 to different values, check g tensor \n",
    "\n",
    "# Best Fit J\n",
    "#####################################################################################################################################################################\n",
    "if not LS_on:\n",
    "\t# Red Chi = ~5\n",
    "\t# B40  =  -0.5572886105373519\n",
    "\t# B60  =  0.4673\n",
    "\t# B44  =  -3.0342208316734602\n",
    "\t# B64  =  -9.8133\n",
    "\t# B20  =  12.606195910392971\n",
    "\n",
    "\t# # Red Chi = ~.01\n",
    "\tB40  =  -0.5572886105373519\n",
    "\tB60  =  0.4673\n",
    "\tB44  =  -3.0946858584804335\n",
    "\tB64  =  -9.8133\n",
    "\tB20  =  12.606195720794622\n",
    "#####################################################################################################################################################################\n"
   ]
  },
  {
   "cell_type": "markdown",
   "id": "9dd1b549",
   "metadata": {},
   "source": [
    "## LMFIT model creation, fitting, and creating Stevens' Coefficients dictionary from best fit values.\n",
    "\n",
    "## Print the fitted parameter values."
   ]
  },
  {
   "cell_type": "code",
   "execution_count": 101,
   "id": "c8e911fe",
   "metadata": {},
   "outputs": [
    {
     "name": "stdout",
     "output_type": "stream",
     "text": [
      "\n",
      "\n",
      "Fitted parameters:\n",
      "Name     Value      Min      Max   Stderr     Vary     Expr Brute_Step\n",
      "B20     12.61     -inf      inf     None    False     None     None\n",
      "B40   -0.5573     -inf      inf     None    False     None     None\n",
      "B44    -3.095     -inf      inf     None    False     None     None\n",
      "B60    0.4673     -inf      inf     None    False     None     None\n",
      "B64    -9.813     -inf      inf     None    False     None     None\n",
      "LS       -inf     -inf      inf     None     True     None     None\n",
      "\n",
      "Reduced Chi Sqr = 0.007447600239388129\n",
      "\n",
      "B40  =  -0.5572886105373519\n",
      "B60  =  0.4673\n",
      "B44  =  -3.0946858584804335\n",
      "B64  =  -9.8133\n",
      "B20  =  12.606195720794622\n",
      "LS  =  -inf\n"
     ]
    }
   ],
   "source": [
    "# Make LMFIT model and fit\n",
    "# Create stevens coefficients dictionary from fitted parameters\n",
    "#####################################################################################################################################################################\n",
    "eModel = Model(energyFit, independent_vars = ['numlevels'])\n",
    "params = eModel.make_params()\n",
    "\n",
    "# Since we only have 4 training points, only 4 parameters can vary at once.\n",
    "params['B20'].set(value = B20, vary = False)\n",
    "params['B40'].set(value=B40, vary=False)\n",
    "params['B60'].set(value=B60, vary=False)\n",
    "params['B44'].set(value = B44, vary = False )\n",
    "params['B64'].set(value = B64, vary = False )\n",
    "\n",
    "if LS_on:\n",
    "\tparams['LS'].set(value=LS, vary=False)\n",
    "    \n",
    "# Fit model to data\n",
    "fitted = eModel.fit(Emeas,params, numlevels = numlevels, LS_on = LS_on, Kmeans = Kmeans, ion = ion)\n",
    "# Create a dictionary of the fitted parameters (stevens coefficients)\n",
    "stev = {'B40': fitted.params['B40'].value, 'B60': fitted.params['B60'].value, 'B44' : fitted.params['B44'].value, 'B64' : fitted.params['B64'].value, 'B20' :fitted.params['B20'].value }\n",
    "#####################################################################################################################################################################\n",
    "\n",
    "# Print the parameters and reduced chi sqr value\n",
    "#####################################################################################################################################################################\n",
    "print('\\n\\nFitted parameters:')\n",
    "fitted.params.pretty_print()\n",
    "print('\\nReduced Chi Sqr = {}'.format(fitted.result.redchi))\n",
    "#Uncomment to print out in easy copy paste format\n",
    "paramPrint(fitted.params)\n",
    "#####################################################################################################################################################################"
   ]
  },
  {
   "cell_type": "markdown",
   "id": "c98db409",
   "metadata": {},
   "source": [
    "## PCF G Tensor"
   ]
  },
  {
   "cell_type": "code",
   "execution_count": 102,
   "id": "8c894ed4",
   "metadata": {},
   "outputs": [
    {
     "name": "stdout",
     "output_type": "stream",
     "text": [
      "\n",
      "\n",
      "Energy values as measured by INS (meV): [168, 335]\n",
      "\n",
      " Eigenvalues \t Eigenvectors\n",
      "\t\t-------------------------------------------------\n",
      "0.00000 \t|  [0. 0. 1. 0. 0. 0.]  |\n",
      "0.00000 \t|  [ 0.  0.  0. -1.  0.  0.]  |\n",
      "168.08612 \t|  [0.    0.743 0.    0.    0.    0.669]  |\n",
      "168.08612 \t|  [0.669 0.    0.    0.    0.743 0.   ]  |\n",
      "335.08648 \t|  [-0.743  0.     0.     0.     0.669  0.   ]  |\n",
      "335.08648 \t|  [ 0.    -0.669  0.     0.     0.     0.743]  |\n",
      "\t\t-------------------------------------------------\n",
      "\n",
      "          gx        gy        gz\n",
      "gx -2.571429  0.000000  0.000000\n",
      "gy  0.000000 -2.571429  0.000000\n",
      "gz  0.000000  0.000000  0.857143\n"
     ]
    }
   ],
   "source": [
    "# CF Analysis\n",
    "#####################################################################################################################################################################\n",
    "# Create the CFLevels object and diagonalize it\n",
    "if LS_on:\n",
    "\tPr = cef.LS_CFLevels.Bdict(Bdict = stev, L = L, S = S, SpinOrbitCoupling=fitted.params['LS'].value)\n",
    "\tPr.diagonalize()\n",
    "else:\n",
    "\tPr = cef.CFLevels.Bdict(Bdict = stev, ion = 'Ce3+')\n",
    "\tPr.diagonalize()\n",
    "\n",
    "# Print final matrix\n",
    "print('\\n\\nEnergy values as measured by INS (meV): {}'.format(Emeas[:-1]))\n",
    "Pr.printEigenvectors()\n",
    "\n",
    "# Calculate and neatly print G-Tensor using Pandas\n",
    "gt = Pr.gtensor()\n",
    "rows = ['gx','gy','gz']\n",
    "df = pd.DataFrame(gt, columns = rows, index = rows)\n",
    "print(df)\n",
    "#####################################################################################################################################################################"
   ]
  },
  {
   "cell_type": "code",
   "execution_count": 103,
   "id": "d5f89754",
   "metadata": {},
   "outputs": [],
   "source": [
    "# ## PCF Susceptibility\n",
    "#####################################################################################################################################################################\n",
    "runs = []\n",
    "for i in os.listdir(MTDir):\n",
    "    if i.endswith('.DAT') or i.endswith('.dat'): #This was a safeguard against a situation arising at an earlier implementation of my code.\n",
    "        runs.append(i)\n",
    "\n",
    "MTdata = {}\n",
    "# plt.figure()\n",
    "for i in runs:\n",
    "    M,H,T,Err,samplemass,measType = getData(i,MTDir, who = who, dataType = 'MT')\n",
    "    M = normalize(M,mass,molweight, 'spin')\n",
    "    Err = normalize(Err,mass,molweight, 'spin')    \n",
    "    MTdata[measType] = [M,H,T,Err,samplemass]\n",
    "    # plt.errorbar(H,M, yerr = Err, label = name)\n",
    "\n",
    "M,H,T,Err,samplemass = MTdata['FC']\n",
    "\n",
    "MBohr = emuToBohr2(M)\n",
    "HTes = oeToTesla(H)\n",
    "X = MBohr/HTes\n",
    "Xi  = 1/X"
   ]
  },
  {
   "cell_type": "markdown",
   "id": "0f6d0902",
   "metadata": {},
   "source": [
    "## Magnetization (M vs H)"
   ]
  },
  {
   "cell_type": "code",
   "execution_count": 104,
   "id": "27053a92",
   "metadata": {},
   "outputs": [
    {
     "name": "stdout",
     "output_type": "stream",
     "text": [
      "Name     Value      Min      Max   Stderr     Vary     Expr Brute_Step\n",
      "a   0.02018   0.0001        1 0.0006649     True     None     None\n",
      "c    0.9798     -inf      inf 0.0006649    False      1-a     None\n"
     ]
    }
   ],
   "source": [
    "# Make LMFIT model and fit\n",
    "# Create stevens coefficients dictionary from fitted parameters\n",
    "#####################################################################################################################################################################\n",
    "susIModel = Model(inverseSusFit, independent_vars = ['Ha', 'Pr', 'T'])\n",
    "params = susIModel.make_params()\n",
    "\n",
    "# Bounded\n",
    "# params['a'].set(value = 1/3, min = .0001, max = 1)\n",
    "# params['b'].set(value = 1/3, min = .0001, max = 1)\n",
    "# params['c'].set(value = 1/3, min = .0001, max = 1)\n",
    "params['a'].set(value = 1/3, min = .0001, max = 1)\n",
    "params.add('c', expr = '1-a' )\n",
    "\n",
    "\n",
    "## Unbounded\n",
    "# params['a'].set(value = 1/3)\n",
    "# params['b'].set(value = 1/3)\n",
    "# params['c'].set(value = 1/3)\n",
    "\n",
    "# Fit model to data\n",
    "Ha = .1\n",
    "XFitted = susIModel.fit(Xi,params,Pr = Pr, Ha = Ha, T = T, LS_on = LS_on, ion = ion)\n",
    "XFitted.params.pretty_print()"
   ]
  },
  {
   "cell_type": "code",
   "execution_count": 105,
   "id": "d03893eb",
   "metadata": {},
   "outputs": [
    {
     "data": {
      "image/png": "[encoded data removed]",
      "text/plain": [
       "<Figure size 432x288 with 1 Axes>"
      ]
     },
     "metadata": {},
     "output_type": "display_data"
    },
    {
     "data": {
      "image/png": "[encoded data removed]",
      "text/plain": [
       "<Figure size 432x288 with 1 Axes>"
      ]
     },
     "metadata": {},
     "output_type": "display_data"
    }
   ],
   "source": [
    "\n",
    "\n",
    "# Choosing 20K run\n",
    "Tmh = '20K'\n",
    "Temp = getTemp(MHdata[Tmh][-1], who = who)\n",
    "M, H, Err, mass, filename = MHdata[Tmh]\n",
    "M = emuToBohr2(M)\n",
    "H = oeToTesla(H)\n",
    "\n",
    "mag = []\n",
    "for i in H:\n",
    "    if LS_on:\n",
    "        mag.append(XFitted.params['a']*Pr.magnetization(Temp = Temp, Field = [i, 0, 0])[0] + XFitted.params['a']*Pr.magnetization(Temp = Temp, Field = [0, i, 0])[1] + XFitted.params['c']*Pr.magnetization(Temp = Temp, Field = [0, 0, i])[2])\n",
    "    else:\n",
    "        mag.append(XFitted.params['a']*Pr.magnetization(Temp = Temp, Field = [i, 0, 0], ion=ion)[0] + XFitted.params['a']*Pr.magnetization(Temp = Temp, Field = [0, i, 0], ion = ion)[1] + XFitted.params['c']*Pr.magnetization(Temp = Temp, Field = [0, 0, i], ion = ion)[2])\n",
    "\n",
    "mag = -1*np.array(mag)\n",
    "\n",
    "\n",
    "plt.figure()\n",
    "plt.plot(T,Xi, label = 'Measured H/M')\n",
    "plt.plot(T,XFitted.best_fit, label = 'PCF Powder Average Fit')\n",
    "plt.xlabel('Temperature (K)')\n",
    "plt.ylabel('X^-1 (uB^-1 Tesla spin)')\n",
    "plt.legend()\n",
    "plt.title('Inverse Susceptbility {} Tesla '.format(.1))\n",
    "plt.show()\n",
    "\n",
    "plt.figure()\n",
    "plt.plot(H,M, label = 'Measured M')\n",
    "plt.plot(H, mag , label = 'PCF Powder Average Fit Extrapolated')\n",
    "plt.xlabel('Field (T)')\n",
    "plt.ylabel('M (uB spin^-1)')\n",
    "plt.legend()\n",
    "plt.title('Magnetization at T  = {} K'.format(Tmh))\n",
    "plt.show()"
   ]
  },
  {
   "cell_type": "markdown",
   "id": "ce0bd58d",
   "metadata": {},
   "source": [
    "## PCF Neutron Spectrum\n",
    "Define: an energy array that will be used to calculate lineshape; neutron incident energy, Ei (mev); temperature (K); instrument resolution (meV).\n",
    "\n",
    "Instrument resolution is typically ~3% - 5% of the Ei.\n",
    "\n",
    "Lineshape fitting would be ideal for determining the CF Hamiltonian; however, nuances arise. If not all magnetic modes are seen at a single Ei then certain scaling has to be taken into account to adjust the intensities of the signal. For this reason we decided to go down the route of fitting to energy levels."
   ]
  },
  {
   "cell_type": "code",
   "execution_count": 107,
   "id": "3af009fe",
   "metadata": {
    "scrolled": true
   },
   "outputs": [
    {
     "data": {
      "image/png": "[encoded data removed]",
      "text/plain": [
       "<Figure size 432x288 with 1 Axes>"
      ]
     },
     "metadata": {},
     "output_type": "display_data"
    }
   ],
   "source": [
    "# ## PCF Neutron Spectrum\n",
    "#####################################################################################################################################################################\n",
    "Ei = 700\n",
    "Temp = 4.82\n",
    "res = 9\n",
    "energy = np.linspace(.01,Ei,1000)\n",
    "\n",
    "CalculatedSpectrum = Pr.neutronSpectrum(energy, Temp=Temp, Ei=Ei, ResFunc = lambda x: res )\n",
    "# ResFunc = lambda x: 9 if (energy < 200) else 21\n",
    "plt.figure()\n",
    "plt.plot(energy,CalculatedSpectrum)\n",
    "plt.ylabel('Intensity (arb. units)')\n",
    "plt.xlabel('Energy (meV)')\n",
    "plt.title('PCF Spectrum: Ei = {}meV, Temp = {}K, Res = {}'.format(Ei,Temp,res))\n",
    "plt.show()\n",
    "#####################################################################################################################################################################"
   ]
  },
  {
   "cell_type": "markdown",
   "id": "c4f26568",
   "metadata": {},
   "source": [
    "## Print Hamiltonian in LaTex Format\n",
    "\n",
    "## Convert our fitted Stevens' to Wybourne and print"
   ]
  },
  {
   "cell_type": "code",
   "execution_count": 108,
   "id": "39343d6f",
   "metadata": {},
   "outputs": [
    {
     "name": "stdout",
     "output_type": "stream",
     "text": [
      "\n",
      "\\begin{table*}\n",
      "\\caption{Eigenvectors and Eigenvalues...}\n",
      "\\begin{ruledtabular}\n",
      "\\begin{tabular}{c|cccccc}\n",
      "E (meV) &$| -\\frac{5}{2}\\rangle$ & $| -\\frac{3}{2}\\rangle$ & $| -\\frac{1}{2}\\rangle$ & $| \\frac{1}{2}\\rangle$ & $| \\frac{3}{2}\\rangle$ & $| \\frac{5}{2}\\rangle$ \\tabularnewline\n",
      " \\hline \n",
      "0.000 & 0.0 & 0.0 & 1.0 & 0.0 & 0.0 & 0.0 \\tabularnewline\n",
      "0.000 & 0.0 & 0.0 & 0.0 & -1.0 & 0.0 & 0.0 \\tabularnewline\n",
      "168.086 & 0.0 & 0.7433 & 0.0 & 0.0 & 0.0 & 0.669 \\tabularnewline\n",
      "168.086 & 0.669 & 0.0 & 0.0 & 0.0 & 0.7433 & 0.0 \\tabularnewline\n",
      "335.086 & -0.7433 & 0.0 & 0.0 & 0.0 & 0.669 & 0.0 \\tabularnewline\n",
      "335.086 & 0.0 & -0.669 & 0.0 & 0.0 & 0.0 & 0.7433 \\tabularnewline\n",
      "\\end{tabular}\\end{ruledtabular}\n",
      "\\label{flo:Eigenvectors}\n",
      "\\end{table*}\n",
      "\n",
      "Fitted coefficients in Wybourne's\n",
      "{'B40': -1103.4314488650602, 'B60': -7216.981200007217, 'B44': -732.3737008424921, 'B64': 13501.735508607833, 'B20': -567.2788074363252}\n"
     ]
    }
   ],
   "source": [
    "print()\n",
    "Pr.printLaTexEigenvectors()\n",
    "print()\n",
    "\n",
    "wyb = cef.StevensToWybourne('Ce3+',stev, LS=True)\n",
    "print(\"Fitted coefficients in Wybourne's\")\n",
    "print(wyb)"
   ]
  }
 ],
 "metadata": {
  "kernelspec": {
   "display_name": "Python 3 (ipykernel)",
   "language": "python",
   "name": "python3"
  },
  "language_info": {
   "codemirror_mode": {
    "name": "ipython",
    "version": 3
   },
   "file_extension": ".py",
   "mimetype": "text/x-python",
   "name": "python",
   "nbconvert_exporter": "python",
   "pygments_lexer": "ipython3",
   "version": "3.9.7"
  }
 },
 "nbformat": 4,
 "nbformat_minor": 5
}
