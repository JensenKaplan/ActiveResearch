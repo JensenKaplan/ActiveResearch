{
 "cells": [
  {
   "cell_type": "markdown",
   "id": "63309b0d",
   "metadata": {},
   "source": [
    "# Here is a real use of the cubic grid search. I use the grid to find starting parameters for the compound Sr2PrO4 which has tetragonal symmetry. The starting parameters will then be used in the file \"Crystal Field Analysis\"."
   ]
  },
  {
   "cell_type": "code",
   "execution_count": 1,
   "id": "7fd2e9ab",
   "metadata": {},
   "outputs": [
    {
     "name": "stdout",
     "output_type": "stream",
     "text": [
      " *******************************************************\n",
      " *                PyCrystalField 2.3.1                 *\n",
      " *  Please cite  J. Appl. Cryst. (2021). 54, 356-362   * \n",
      " *    <https://doi.org/10.1107/S160057672001554X>      *\n",
      " *******************************************************\n",
      "\n"
     ]
    }
   ],
   "source": [
    "%reload_ext autoreload\n",
    "import sys\n",
    "sys.path.append('../../')\n",
    "from JensenTools import *\n",
    "import numpy as np\n",
    "import matplotlib.pyplot as plt\n",
    "import PyCrystalField as cef\n",
    "import os\n",
    "import scipy.io as sio\n",
    "from functools import reduce\n",
    "# import time\n",
    "\n",
    "saveDir = getSaveDir() + 'cubic_matrix_J/' "
   ]
  },
  {
   "cell_type": "markdown",
   "id": "faacffbb",
   "metadata": {},
   "source": [
    "### Define the measured energy levels (from INS data) and define an allowable tolerance between calculated and measured energy."
   ]
  },
  {
   "cell_type": "code",
   "execution_count": 2,
   "id": "adc65b29",
   "metadata": {},
   "outputs": [],
   "source": [
    "tol = .025 #tolerance allowed between measured and calculated energy.\n",
    "Emeas = [168, 335,385] # Our measured levels of Sr2PrO4\n",
    "comp = 'Sr2PrO4' #Compound name"
   ]
  },
  {
   "cell_type": "markdown",
   "id": "12e21b29",
   "metadata": {},
   "source": [
    "### In the following section we scan through all LS grids and find the (x,bpf) points that create matching energy levels."
   ]
  },
  {
   "cell_type": "code",
   "execution_count": 3,
   "id": "04c0c0f1",
   "metadata": {
    "scrolled": true
   },
   "outputs": [
    {
     "name": "stdout",
     "output_type": "stream",
     "text": [
      "Energies as measured by paper (meV):   [168, 335, 385]\n",
      "dict_keys(['__header__', '__version__', '__globals__', 'X', 'B', 'E1', 'E2'])\n",
      "['E1', 'E2']\n"
     ]
    },
    {
     "data": {
      "image/png": "[encoded data removed]",
      "text/plain": [
       "<Figure size 432x288 with 4 Axes>"
      ]
     },
     "metadata": {
      "needs_background": "light"
     },
     "output_type": "display_data"
    },
    {
     "name": "stdout",
     "output_type": "stream",
     "text": [
      "\n",
      "Parameter search for:   Compound:  Sr2PrO4  with 0.025 tolerance.\n",
      "No compatibilities found\n"
     ]
    }
   ],
   "source": [
    "print('Energies as measured by paper (meV):  ', Emeas)\n",
    "\n",
    "EList, data = loadMatrixJ(saveDir + 'J_grid.mat') #Load in all created 800x800 grids\n",
    "\n",
    "\n",
    "\n",
    "#Loading the x,bpf, and LS of each file.\n",
    "x = data['X'][0]\n",
    "bpf = data['B'][0]\n",
    "print(EList)\n",
    "\n",
    "plotContoursJ(data,EList) #Contour plotting for 4 E levels\n",
    "\n",
    "\n",
    "#Choose which bands to look for compatibilities.\n",
    "#For since we only measure 3 magnetic modes, only search for compatibilities with energies [E1,E2,E3].\n",
    "index = [1,2]\n",
    "Eindex = []\n",
    "EListindex = []\n",
    "for i in index:\n",
    "    Eindex.append(Emeas[i-1])\n",
    "    EListindex.append(EList[i-1])\n",
    "\n",
    "#Function call that searches for compatible (x,bpf) coordinates.\n",
    "coords = paramFinderJ(data,EListindex,Eindex,tol,comp)\n",
    "\n",
    "#Printing results\n",
    "if len(coords) !=0:\n",
    "    for j in [coords[0]]:\n",
    "        print('!!! Compatibilities Found !!!')\n",
    "        print('With x = ', x[j[0]], ' and bpf = ', bpf[j[1]])\n",
    "        count = 1\n",
    "        for i in EList[c]:\n",
    "            print('E%i = '%count, data[i][j[0]][j[1]], 'meV')\n",
    "            count += 1\n",
    "        print()\n",
    "else:\n",
    "    print('No compatibilities found')\n",
    "\n",
    "\n",
    "#If there is a compatibility then print an example of the matrix generated by PCF with cubic constraints.\n",
    "if(len(coords) != 0):\n",
    "    xind,bind = coords[0][0], coords[0][1]\n",
    "\n",
    "    print('\\nFor ', comp, ' at x[%i] = %.4f and bpf[%i] = %.4f'%(xind,x[xind],bind,bpf[bind]))\n",
    "    print('Using these values lets construct the CF Hamiltonian\\n')\n",
    "    printPCFEigensJ(x[xind],bpf[bind])\n"
   ]
  },
  {
   "cell_type": "markdown",
   "id": "7e958e49",
   "metadata": {},
   "source": [
    "### We find results for LS = 60 and LS = 100. Since Sr2PrO4 has the central ion Pr4+ which has a reported LS value of ~107meV, I decide to use the results from the LS = 100 run as my starting point for Crystal Field fitting.\n",
    "\n",
    "LS = 100, x = 0.03629536921151444, and bpf = -0.6570713391739674"
   ]
  },
  {
   "cell_type": "code",
   "execution_count": null,
   "id": "11c81015",
   "metadata": {},
   "outputs": [],
   "source": []
  }
 ],
 "metadata": {
  "kernelspec": {
   "display_name": "Python 3 (ipykernel)",
   "language": "python",
   "name": "python3"
  },
  "language_info": {
   "codemirror_mode": {
    "name": "ipython",
    "version": 3
   },
   "file_extension": ".py",
   "mimetype": "text/x-python",
   "name": "python",
   "nbconvert_exporter": "python",
   "pygments_lexer": "ipython3",
   "version": "3.9.7"
  }
 },
 "nbformat": 4,
 "nbformat_minor": 5
}
