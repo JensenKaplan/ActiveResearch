{
 "cells": [
  {
   "cell_type": "markdown",
   "id": "4d3471a2",
   "metadata": {},
   "source": [
    "# The Creation of the Cubic System Grid Search\n",
    "You can specify the bounds of the coefficient ratio (x) and the pre-factor (bpf) as well as the grid density. The code has been parallelized for optimal results however this is still an intensive calculation. In the example below I only allow a 20x20 grid for 3 different LS values. Even this takes a few minutes to compute and create the .mat files. In this directory you'll find 800x800 grids that I created. These took over a day to compute. The idea was to create super-fine mesh grids once and be able to search through those .mat files as opposed to grid creation each time."
   ]
  },
  {
   "cell_type": "code",
   "execution_count": 53,
   "id": "cd2a3349",
   "metadata": {},
   "outputs": [],
   "source": [
    "%reload_ext autoreload\n",
    "import sys\n",
    "sys.path.append('../../')\n",
    "from JensenTools import *\n",
    "saveDir = getSaveDir()\n",
    "saveDir = saveDir + 'cubic_matrix_J/'"
   ]
  },
  {
   "cell_type": "code",
   "execution_count": 54,
   "id": "f55737a5",
   "metadata": {},
   "outputs": [],
   "source": [
    "numlevels = 4 #PCF produces a number of eigenvalues by diagonalizing the CF Hamiltonian. I specify the number of unique levels to cluster.\n",
    "xmin, xmax = -1,1\n",
    "bpfmin, bpfmax =  -1,1\n",
    "numx, numbpf = 20, 20"
   ]
  },
  {
   "cell_type": "code",
   "execution_count": 55,
   "id": "b5af6325",
   "metadata": {
    "scrolled": true
   },
   "outputs": [
    {
     "name": "stdout",
     "output_type": "stream",
     "text": [
      "Xmin = -1.000 to Xmax = 1.000\n",
      "BPFmin = -1.000 to BPFmax = 1.000 \n",
      "with number of steps in X = 20, Bpf = 20\n",
      "[0.0, 0.0, 360.0, 360.0]\n",
      " *******************************************************\n",
      " *                PyCrystalField 2.3.1                 *\n",
      " *  Please cite  J. Appl. Cryst. (2021). 54, 356-362   * \n",
      " *    <https://doi.org/10.1107/S160057672001554X>      *\n",
      " *******************************************************\n",
      "\n",
      " *******************************************************\n",
      " *                PyCrystalField 2.3.1                 *\n",
      " *  Please cite  J. Appl. Cryst. (2021). 54, 356-362   * \n",
      " *    <https://doi.org/10.1107/S160057672001554X>      *\n",
      " *******************************************************\n",
      "\n",
      " *******************************************************\n",
      " *                PyCrystalField 2.3.1                 *\n",
      " *  Please cite  J. Appl. Cryst. (2021). 54, 356-362   * \n",
      " *    <https://doi.org/10.1107/S160057672001554X>      *\n",
      " *******************************************************\n",
      "\n",
      " *******************************************************\n",
      " *                PyCrystalField 2.3.1                 *\n",
      " *  Please cite  J. Appl. Cryst. (2021). 54, 356-362   * \n",
      " *    <https://doi.org/10.1107/S160057672001554X>      *\n",
      " *******************************************************\n",
      "\n",
      " *******************************************************\n",
      " *                PyCrystalField 2.3.1                 *\n",
      " *  Please cite  J. Appl. Cryst. (2021). 54, 356-362   * \n",
      " *    <https://doi.org/10.1107/S160057672001554X>      *\n",
      " *******************************************************\n",
      "\n",
      " *******************************************************\n",
      " *                PyCrystalField 2.3.1                 *\n",
      " *  Please cite  J. Appl. Cryst. (2021). 54, 356-362   * \n",
      " *    <https://doi.org/10.1107/S160057672001554X>      *\n",
      " *******************************************************\n",
      "\n",
      " *******************************************************\n",
      " *                PyCrystalField 2.3.1                 *\n",
      " *  Please cite  J. Appl. Cryst. (2021). 54, 356-362   * \n",
      " *    <https://doi.org/10.1107/S160057672001554X>      *\n",
      " *******************************************************\n",
      "\n"
     ]
    }
   ],
   "source": [
    "if __name__ == '__main__':\n",
    "\t\tsaveMatrixParJ(xmin,xmax,numx,bpfmin,bpfmax,numbpf,saveDir,numlevels)"
   ]
  }
 ],
 "metadata": {
  "kernelspec": {
   "display_name": "Python 3 (ipykernel)",
   "language": "python",
   "name": "python3"
  },
  "language_info": {
   "codemirror_mode": {
    "name": "ipython",
    "version": 3
   },
   "file_extension": ".py",
   "mimetype": "text/x-python",
   "name": "python",
   "nbconvert_exporter": "python",
   "pygments_lexer": "ipython3",
   "version": "3.9.7"
  }
 },
 "nbformat": 4,
 "nbformat_minor": 5
}
