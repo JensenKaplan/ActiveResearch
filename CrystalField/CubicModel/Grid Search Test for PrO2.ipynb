{
 "cells": [
  {
   "cell_type": "markdown",
   "id": "63309b0d",
   "metadata": {},
   "source": [
    "# Here is a test of the cubic grid search. I use PrO2 as an example."
   ]
  },
  {
   "cell_type": "code",
   "execution_count": 17,
   "id": "7fd2e9ab",
   "metadata": {},
   "outputs": [],
   "source": [
    "import numpy as np\n",
    "import matplotlib.pyplot as plt\n",
    "import PyCrystalField as cef\n",
    "import os\n",
    "import scipy.io as sio\n",
    "from functools import reduce\n",
    "import time\n",
    "from JensenTools import *"
   ]
  },
  {
   "cell_type": "markdown",
   "id": "faacffbb",
   "metadata": {},
   "source": [
    "### Define the measured energy levels (from INS data) and define an allowable tolerance between calculated and measured energy."
   ]
  },
  {
   "cell_type": "code",
   "execution_count": 18,
   "id": "adc65b29",
   "metadata": {},
   "outputs": [],
   "source": [
    "tol = .05 #tolerance allowed between measured and calculated energy.\n",
    "Emeas = [130, 335,350,730] #Boothroyd's measured levels of PrO2\n",
    "comp = 'PrO2' #Compound name\n",
    "gridDir = 'cubic_matrix_800x800/' #The directory of the saved 800x800 matrices"
   ]
  },
  {
   "cell_type": "markdown",
   "id": "12e21b29",
   "metadata": {},
   "source": [
    "### In the following section we scan through all LS grids and find the (x,bpf) points that create matching energy levels."
   ]
  },
  {
   "cell_type": "code",
   "execution_count": 19,
   "id": "04c0c0f1",
   "metadata": {},
   "outputs": [
    {
     "name": "stdout",
     "output_type": "stream",
     "text": [
      "Energies as measured by paper (meV):   [130, 335, 350, 730]\n",
      "\n",
      "Parameter search for:   Compound:  PrO2  at  LS = 60 meV with 0.050 tolerance.\n"
     ]
    },
    {
     "ename": "KeyboardInterrupt",
     "evalue": "",
     "output_type": "error",
     "traceback": [
      "\u001b[0;31m---------------------------------------------------------------------------\u001b[0m",
      "\u001b[0;31mKeyboardInterrupt\u001b[0m                         Traceback (most recent call last)",
      "\u001b[0;32m/var/folders/vq/mmg58sj542vb8d603nwpj5j00000gn/T/ipykernel_3105/3471161505.py\u001b[0m in \u001b[0;36m<module>\u001b[0;34m\u001b[0m\n\u001b[1;32m     23\u001b[0m \u001b[0;34m\u001b[0m\u001b[0m\n\u001b[1;32m     24\u001b[0m     \u001b[0;31m#Function call that searches for compatible (x,bpf) coordinates.\u001b[0m\u001b[0;34m\u001b[0m\u001b[0;34m\u001b[0m\u001b[0m\n\u001b[0;32m---> 25\u001b[0;31m     \u001b[0mcoords\u001b[0m \u001b[0;34m=\u001b[0m \u001b[0mparamFinder\u001b[0m\u001b[0;34m(\u001b[0m\u001b[0mdata\u001b[0m\u001b[0;34m[\u001b[0m\u001b[0mc\u001b[0m\u001b[0;34m]\u001b[0m\u001b[0;34m,\u001b[0m\u001b[0mEListindex\u001b[0m\u001b[0;34m,\u001b[0m\u001b[0mEindex\u001b[0m\u001b[0;34m,\u001b[0m\u001b[0mtol\u001b[0m\u001b[0;34m,\u001b[0m\u001b[0mcomp\u001b[0m\u001b[0;34m,\u001b[0m\u001b[0mLSNames\u001b[0m\u001b[0;34m[\u001b[0m\u001b[0mc\u001b[0m\u001b[0;34m]\u001b[0m\u001b[0;34m)\u001b[0m\u001b[0;34m\u001b[0m\u001b[0;34m\u001b[0m\u001b[0m\n\u001b[0m\u001b[1;32m     26\u001b[0m \u001b[0;34m\u001b[0m\u001b[0m\n\u001b[1;32m     27\u001b[0m     \u001b[0;31m#Printing results\u001b[0m\u001b[0;34m\u001b[0m\u001b[0;34m\u001b[0m\u001b[0m\n",
      "\u001b[0;32m~/GitHub/CrystalField/CubicModel/JensenTools.py\u001b[0m in \u001b[0;36mparamFinder\u001b[0;34m(data, band, E, tolerance, comp, LSName)\u001b[0m\n\u001b[1;32m    275\u001b[0m                         \u001b[0;32mfor\u001b[0m \u001b[0mk\u001b[0m \u001b[0;32min\u001b[0m \u001b[0mrange\u001b[0m\u001b[0;34m(\u001b[0m\u001b[0mlen\u001b[0m\u001b[0;34m(\u001b[0m\u001b[0mdata\u001b[0m\u001b[0;34m[\u001b[0m\u001b[0mband\u001b[0m\u001b[0;34m[\u001b[0m\u001b[0mi\u001b[0m\u001b[0;34m]\u001b[0m\u001b[0;34m]\u001b[0m\u001b[0;34m[\u001b[0m\u001b[0mj\u001b[0m\u001b[0;34m]\u001b[0m\u001b[0;34m)\u001b[0m\u001b[0;34m)\u001b[0m\u001b[0;34m:\u001b[0m\u001b[0;34m\u001b[0m\u001b[0;34m\u001b[0m\u001b[0m\n\u001b[1;32m    276\u001b[0m                                 \u001b[0;32mif\u001b[0m \u001b[0;32mnot\u001b[0m \u001b[0;34m(\u001b[0m\u001b[0mnp\u001b[0m\u001b[0;34m.\u001b[0m\u001b[0misnan\u001b[0m\u001b[0;34m(\u001b[0m\u001b[0mdata\u001b[0m\u001b[0;34m[\u001b[0m\u001b[0mband\u001b[0m\u001b[0;34m[\u001b[0m\u001b[0mi\u001b[0m\u001b[0;34m]\u001b[0m\u001b[0;34m]\u001b[0m\u001b[0;34m[\u001b[0m\u001b[0mj\u001b[0m\u001b[0;34m]\u001b[0m\u001b[0;34m[\u001b[0m\u001b[0mk\u001b[0m\u001b[0;34m]\u001b[0m\u001b[0;34m)\u001b[0m\u001b[0;34m)\u001b[0m\u001b[0;34m:\u001b[0m\u001b[0;34m\u001b[0m\u001b[0;34m\u001b[0m\u001b[0m\n\u001b[0;32m--> 277\u001b[0;31m                                         \u001b[0;32mif\u001b[0m \u001b[0;34m(\u001b[0m\u001b[0;34m(\u001b[0m\u001b[0;34m(\u001b[0m\u001b[0;36m1\u001b[0m\u001b[0;34m-\u001b[0m\u001b[0mtolerance\u001b[0m\u001b[0;34m)\u001b[0m\u001b[0;34m*\u001b[0m\u001b[0mE\u001b[0m\u001b[0;34m[\u001b[0m\u001b[0mi\u001b[0m\u001b[0;34m]\u001b[0m \u001b[0;34m<=\u001b[0m \u001b[0mdata\u001b[0m\u001b[0;34m[\u001b[0m\u001b[0mband\u001b[0m\u001b[0;34m[\u001b[0m\u001b[0mi\u001b[0m\u001b[0;34m]\u001b[0m\u001b[0;34m]\u001b[0m\u001b[0;34m[\u001b[0m\u001b[0mj\u001b[0m\u001b[0;34m]\u001b[0m\u001b[0;34m[\u001b[0m\u001b[0mk\u001b[0m\u001b[0;34m]\u001b[0m\u001b[0;34m)\u001b[0m \u001b[0;32mand\u001b[0m \u001b[0;34m(\u001b[0m\u001b[0;34m(\u001b[0m\u001b[0;36m1\u001b[0m\u001b[0;34m+\u001b[0m\u001b[0mtolerance\u001b[0m\u001b[0;34m)\u001b[0m\u001b[0;34m*\u001b[0m\u001b[0mE\u001b[0m\u001b[0;34m[\u001b[0m\u001b[0mi\u001b[0m\u001b[0;34m]\u001b[0m \u001b[0;34m>=\u001b[0m  \u001b[0mdata\u001b[0m\u001b[0;34m[\u001b[0m\u001b[0mband\u001b[0m\u001b[0;34m[\u001b[0m\u001b[0mi\u001b[0m\u001b[0;34m]\u001b[0m\u001b[0;34m]\u001b[0m\u001b[0;34m[\u001b[0m\u001b[0mj\u001b[0m\u001b[0;34m]\u001b[0m\u001b[0;34m[\u001b[0m\u001b[0mk\u001b[0m\u001b[0;34m]\u001b[0m\u001b[0;34m)\u001b[0m\u001b[0;34m)\u001b[0m\u001b[0;34m:\u001b[0m\u001b[0;34m\u001b[0m\u001b[0;34m\u001b[0m\u001b[0m\n\u001b[0m\u001b[1;32m    278\u001b[0m                                                 \u001b[0mtemp\u001b[0m \u001b[0;34m=\u001b[0m \u001b[0;34m[\u001b[0m\u001b[0mdata\u001b[0m\u001b[0;34m[\u001b[0m\u001b[0mband\u001b[0m\u001b[0;34m[\u001b[0m\u001b[0mi\u001b[0m\u001b[0;34m]\u001b[0m\u001b[0;34m]\u001b[0m\u001b[0;34m[\u001b[0m\u001b[0mj\u001b[0m\u001b[0;34m]\u001b[0m\u001b[0;34m[\u001b[0m\u001b[0mk\u001b[0m\u001b[0;34m]\u001b[0m\u001b[0;34m]\u001b[0m\u001b[0;34m\u001b[0m\u001b[0;34m\u001b[0m\u001b[0m\n\u001b[1;32m    279\u001b[0m                                                 \u001b[0;32mif\u001b[0m \u001b[0;34m(\u001b[0m\u001b[0;34m[\u001b[0m\u001b[0mj\u001b[0m\u001b[0;34m,\u001b[0m\u001b[0mk\u001b[0m\u001b[0;34m]\u001b[0m \u001b[0;32mnot\u001b[0m \u001b[0;32min\u001b[0m \u001b[0mcoords\u001b[0m\u001b[0;34m)\u001b[0m\u001b[0;34m:\u001b[0m\u001b[0;34m\u001b[0m\u001b[0;34m\u001b[0m\u001b[0m\n",
      "\u001b[0;31mKeyboardInterrupt\u001b[0m: "
     ]
    }
   ],
   "source": [
    "print('Energies as measured by paper (meV):  ', Emeas)\n",
    "\n",
    "LSNames, EList, data = loadMatrix(gridDir) #Load in all created 800x800 grids\n",
    "\n",
    "for c in range(len(LSNames)):\n",
    "    \n",
    "    #Loading the x,bpf, and LS of each file.\n",
    "    x = data[c]['X'][0]\n",
    "    bpf = data[c]['B'][0]\n",
    "    LS = data[c]['LS'][0][0]\n",
    "\n",
    "#     plotContours(data[c],EList[c],Emeas,LSNames[c]) #Contour plotting for 4 E levels\n",
    "\n",
    "\n",
    "    #Choose which bands to look for compatibilities.\n",
    "    #For Boothroyd with 4 reported levels. I use indices 1-4.\n",
    "    index = [1,2,3,4]\n",
    "    Eindex = []\n",
    "    EListindex = []\n",
    "    for i in index:\n",
    "        Eindex.append(Emeas[i-1])\n",
    "        EListindex.append(EList[c][i-1])\n",
    "        \n",
    "    #Function call that searches for compatible (x,bpf) coordinates.\n",
    "    coords = paramFinder(data[c],EListindex,Eindex,tol,comp,LSNames[c])\n",
    "\n",
    "    #Printing results\n",
    "    if len(coords) !=0:\n",
    "        for j in [coords[0]]:\n",
    "            print('!!! Compatibilities Found !!!')\n",
    "            print('With x = ', x[j[0]], ' and bpf = ', bpf[j[1]])\n",
    "            count = 1\n",
    "            for i in EList[c]:\n",
    "                print('E%i = '%count, data[c][i][j[0]][j[1]], 'meV')\n",
    "                count += 1\n",
    "            print()\n",
    "    else:\n",
    "        print('No compatibilities found')\n",
    "\n",
    "    \n",
    "    #If there is a compatibility then print an example of the matrix generated by PCF with cubic constraints.\n",
    "    if(len(coords) != 0):\n",
    "        print('\\nFor ', LSNames[c])\n",
    "        xind,bind = coords[0][0], coords[0][1]\n",
    "\n",
    "        print('\\nFor ', comp, ' at x[%i] = %.4f and bpf[%i] = %.4f'%(xind,x[xind],bind,bpf[bind]))\n",
    "        print('Using these values lets see if degeneracies are protected.\\n')\n",
    "        printPCFEigens(x[xind],bpf[bind],LS)\n"
   ]
  }
 ],
 "metadata": {
  "kernelspec": {
   "display_name": "Python 3 (ipykernel)",
   "language": "python",
   "name": "python3"
  },
  "language_info": {
   "codemirror_mode": {
    "name": "ipython",
    "version": 3
   },
   "file_extension": ".py",
   "mimetype": "text/x-python",
   "name": "python",
   "nbconvert_exporter": "python",
   "pygments_lexer": "ipython3",
   "version": "3.9.7"
  }
 },
 "nbformat": 4,
 "nbformat_minor": 5
}
