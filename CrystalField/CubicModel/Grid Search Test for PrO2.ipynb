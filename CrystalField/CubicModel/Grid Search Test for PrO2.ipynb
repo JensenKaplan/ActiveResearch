{
 "cells": [
  {
   "cell_type": "markdown",
   "id": "63309b0d",
   "metadata": {},
   "source": [
    "# Here is a test of the cubic grid search. I use PrO2 as an example."
   ]
  },
  {
   "cell_type": "code",
   "execution_count": 23,
   "id": "7fd2e9ab",
   "metadata": {},
   "outputs": [],
   "source": [
    "import numpy as np\n",
    "import matplotlib.pyplot as plt\n",
    "import PyCrystalField as cef\n",
    "import os\n",
    "import scipy.io as sio\n",
    "from functools import reduce\n",
    "import time\n",
    "from JensenTools import *"
   ]
  },
  {
   "cell_type": "markdown",
   "id": "faacffbb",
   "metadata": {},
   "source": [
    "### Define the measured energy levels (from INS data) and define an allowable tolerance between calculated and measured energy.\n",
    "\n",
    "\n",
    "Boothroyd's PrO2 paper found at DOI: [10.1103/PhysRevLett.86.2082](https://doi.org/10.1103/PhysRevLett.86.2082)"
   ]
  },
  {
   "cell_type": "code",
   "execution_count": 24,
   "id": "adc65b29",
   "metadata": {},
   "outputs": [],
   "source": [
    "tol = .05 #tolerance allowed between measured and calculated energy.\n",
    "Emeas = [130, 335,350,730] #Boothroyd's measured levels of PrO2\n",
    "comp = 'PrO2' #Compound name\n",
    "gridDir = 'cubic_matrix_800x800/' #The directory of the saved 800x800 matrices"
   ]
  },
  {
   "cell_type": "markdown",
   "id": "12e21b29",
   "metadata": {},
   "source": [
    "### In the following section we scan through all LS grids and find the (x,bpf) points that create matching energy levels."
   ]
  },
  {
   "cell_type": "code",
   "execution_count": 25,
   "id": "04c0c0f1",
   "metadata": {
    "scrolled": true
   },
   "outputs": [
    {
     "name": "stdout",
     "output_type": "stream",
     "text": [
      "Energies as measured by paper (meV):   [130, 335, 350, 730]\n",
      "\n",
      "Parameter search for:   Compound:  PrO2  at  LS = 60 meV with 0.050 tolerance.\n",
      "No compatibilities found\n",
      "\n",
      "Parameter search for:   Compound:  PrO2  at  LS = 70 meV with 0.050 tolerance.\n",
      "No compatibilities found\n",
      "\n",
      "Parameter search for:   Compound:  PrO2  at  LS = 100 meV with 0.050 tolerance.\n",
      "!!! Compatibilities Found !!!\n",
      "With x =  0.03629536921151444  and bpf =  -0.41927409261576964\n",
      "E1 =  130.75673327972905 meV\n",
      "E2 =  334.34838258002776 meV\n",
      "E3 =  366.5538330531193 meV\n",
      "E4 =  765.3103680796742 meV\n",
      "\n",
      "\n",
      "For  LS = 100 meV\n",
      "\n",
      "For  PrO2  at x[414] = 0.0363 and bpf[232] = -0.4193\n",
      "Using these values lets see if degeneracies are protected.\n",
      "\n",
      "\n",
      " Eigenvalues \t Eigenvectors\n",
      "\t\t---------------------------------------------------------------------------------------------------------\n",
      "0.00000 \t|  [-0.048  0.     0.     0.     0.     0.     0.     0.684 -0.728  0.\n",
      "  0.     0.     0.     0.   ]  |\n",
      "0.00000 \t|  [ 0.    -0.855  0.315  0.     0.     0.     0.     0.     0.    -0.264\n",
      "  0.315  0.     0.     0.   ]  |\n",
      "0.00000 \t|  [ 0.     0.     0.     0.315 -0.264  0.     0.     0.     0.     0.\n",
      "  0.     0.315 -0.855  0.   ]  |\n",
      "0.00000 \t|  [ 0.     0.     0.     0.     0.    -0.728  0.684  0.     0.     0.\n",
      "  0.     0.     0.    -0.048]  |\n",
      "130.75673 \t|  [ 0.     0.     0.    -0.593  0.619  0.     0.     0.     0.     0.\n",
      "  0.    -0.19  -0.479  0.   ]  |\n",
      "130.75673 \t|  [ 0.    -0.479 -0.19   0.     0.     0.     0.     0.     0.     0.619\n",
      " -0.593  0.     0.     0.   ]  |\n",
      "334.34838 \t|  [ 0.     0.     0.     0.     0.    -0.5   -0.577  0.     0.     0.\n",
      "  0.     0.     0.    -0.645]  |\n",
      "334.34838 \t|  [-0.645  0.     0.     0.     0.     0.     0.    -0.577 -0.5    0.\n",
      "  0.     0.     0.     0.   ]  |\n",
      "366.55383 \t|  [ 0.     0.     0.    -0.484 -0.717  0.     0.     0.     0.     0.\n",
      "  0.    -0.484 -0.136  0.   ]  |\n",
      "366.55383 \t|  [ 0.    -0.136 -0.484  0.     0.     0.     0.     0.     0.    -0.717\n",
      " -0.484  0.     0.     0.   ]  |\n",
      "366.55383 \t|  [ 0.     0.     0.     0.     0.     0.469  0.446  0.     0.     0.\n",
      "  0.     0.     0.    -0.762]  |\n",
      "366.55383 \t|  [ 0.762  0.     0.     0.     0.     0.     0.    -0.446 -0.469  0.\n",
      "  0.     0.     0.     0.   ]  |\n",
      "765.31037 \t|  [ 0.     0.142  0.794  0.     0.     0.     0.     0.     0.    -0.184\n",
      " -0.562  0.     0.     0.   ]  |\n",
      "765.31037 \t|  [ 0.     0.     0.     0.562  0.184  0.     0.     0.     0.     0.\n",
      "  0.    -0.794 -0.142  0.   ]  |\n",
      "\t\t---------------------------------------------------------------------------------------------------------\n",
      "\n",
      "\n",
      "Parameter search for:   Compound:  PrO2  at  LS = 110 meV with 0.050 tolerance.\n",
      "No compatibilities found\n",
      "\n",
      "Parameter search for:   Compound:  PrO2  at  LS = 120 meV with 0.050 tolerance.\n",
      "No compatibilities found\n",
      "\n",
      "Parameter search for:   Compound:  PrO2  at  LS = 130 meV with 0.050 tolerance.\n",
      "No compatibilities found\n",
      "\n",
      "Parameter search for:   Compound:  PrO2  at  LS = 80 meV with 0.050 tolerance.\n",
      "No compatibilities found\n",
      "\n",
      "Parameter search for:   Compound:  PrO2  at  LS = 140 meV with 0.050 tolerance.\n",
      "No compatibilities found\n",
      "\n",
      "Parameter search for:   Compound:  PrO2  at  LS = 150 meV with 0.050 tolerance.\n",
      "No compatibilities found\n",
      "\n",
      "Parameter search for:   Compound:  PrO2  at  LS = 50 meV with 0.050 tolerance.\n",
      "No compatibilities found\n",
      "\n",
      "Parameter search for:   Compound:  PrO2  at  LS = 90 meV with 0.050 tolerance.\n",
      "No compatibilities found\n"
     ]
    }
   ],
   "source": [
    "print('Energies as measured by paper (meV):  ', Emeas)\n",
    "\n",
    "LSNames, EList, data = loadMatrix(gridDir) #Load in all created 800x800 grids\n",
    "\n",
    "for c in range(len(LSNames)):\n",
    "    \n",
    "    #Loading the x,bpf, and LS of each file.\n",
    "    x = data[c]['X'][0]\n",
    "    bpf = data[c]['B'][0]\n",
    "    LS = data[c]['LS'][0][0]\n",
    "\n",
    "### The line below can be uncommented to view the contour plots of the energy levels. \n",
    "#     plotContours(data[c],EList[c],Emeas,LSNames[c]) #Contour plotting for 4 E levels\n",
    "\n",
    "\n",
    "    #Choose which bands to look for compatibilities.\n",
    "    #For Boothroyd with 4 reported levels. I use indices 1-4.\n",
    "    index = [1,2,3,4]\n",
    "    Eindex = []\n",
    "    EListindex = []\n",
    "    for i in index:\n",
    "        Eindex.append(Emeas[i-1])\n",
    "        EListindex.append(EList[c][i-1])\n",
    "        \n",
    "    #Function call that searches for compatible (x,bpf) coordinates.\n",
    "    coords = paramFinder(data[c],EListindex,Eindex,tol,comp,LSNames[c])\n",
    "\n",
    "    #Printing results\n",
    "    if len(coords) !=0:\n",
    "        for j in [coords[0]]:\n",
    "            print('!!! Compatibilities Found !!!')\n",
    "            print('With x = ', x[j[0]], ' and bpf = ', bpf[j[1]])\n",
    "            count = 1\n",
    "            for i in EList[c]:\n",
    "                print('E%i = '%count, data[c][i][j[0]][j[1]], 'meV')\n",
    "                count += 1\n",
    "            print()\n",
    "    else:\n",
    "        print('No compatibilities found')\n",
    "\n",
    "    \n",
    "    #If there is a compatibility then print an example of the matrix generated by PCF with cubic constraints.\n",
    "    if(len(coords) != 0):\n",
    "        print('\\nFor ', LSNames[c])\n",
    "        xind,bind = coords[0][0], coords[0][1]\n",
    "\n",
    "        print('\\nFor ', comp, ' at x[%i] = %.4f and bpf[%i] = %.4f'%(xind,x[xind],bind,bpf[bind]))\n",
    "        print('Using these values lets see if degeneracies are protected.\\n')\n",
    "        printPCFEigens(x[xind],bpf[bind],LS)\n"
   ]
  },
  {
   "cell_type": "markdown",
   "id": "67b9dd11",
   "metadata": {},
   "source": [
    "### We find compatibilities at a 5% tolerance for LS = 100. This is a good sanity check ensuring that the grid search I've created can produce good starting points for CF Hamiltonian fitting."
   ]
  }
 ],
 "metadata": {
  "kernelspec": {
   "display_name": "Python 3 (ipykernel)",
   "language": "python",
   "name": "python3"
  },
  "language_info": {
   "codemirror_mode": {
    "name": "ipython",
    "version": 3
   },
   "file_extension": ".py",
   "mimetype": "text/x-python",
   "name": "python",
   "nbconvert_exporter": "python",
   "pygments_lexer": "ipython3",
   "version": "3.9.7"
  }
 },
 "nbformat": 4,
 "nbformat_minor": 5
}
