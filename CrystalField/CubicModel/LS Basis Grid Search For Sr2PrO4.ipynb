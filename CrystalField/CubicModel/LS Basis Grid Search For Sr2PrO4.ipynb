{
 "cells": [
  {
   "cell_type": "markdown",
   "id": "63309b0d",
   "metadata": {},
   "source": [
    "# Here is a real use of the cubic grid search. I use the grid to find starting parameters for the compound Sr2PrO4 which has tetragonal symmetry. The starting parameters will then be used in the file \"Crystal Field Analysis\"."
   ]
  },
  {
   "cell_type": "code",
   "execution_count": 7,
   "id": "7fd2e9ab",
   "metadata": {},
   "outputs": [],
   "source": [
    "%reload_ext autoreload\n",
    "%autoreload 2\n",
    "import sys\n",
    "sys.path.append('../../')\n",
    "from JensenTools import *\n",
    "import numpy as np\n",
    "import matplotlib.pyplot as plt\n",
    "import PyCrystalField as cef\n",
    "import os\n",
    "import scipy.io as sio\n",
    "from functools import reduce\n",
    "# import time\n",
    "\n",
    "saveDir = getSaveDir() + 'cubic_matrix_LS_test/' "
   ]
  },
  {
   "cell_type": "markdown",
   "id": "faacffbb",
   "metadata": {},
   "source": [
    "### Define the measured energy levels (from INS data) and define an allowable tolerance between calculated and measured energy."
   ]
  },
  {
   "cell_type": "code",
   "execution_count": 8,
   "id": "adc65b29",
   "metadata": {},
   "outputs": [],
   "source": [
    "tol = .025 #tolerance allowed between measured and calculated energy.\n",
    "Emeas = [168, 335,385] # Our measured levels of Sr2PrO4\n",
    "comp = 'Sr2PrO4' #Compound name"
   ]
  },
  {
   "cell_type": "markdown",
   "id": "12e21b29",
   "metadata": {},
   "source": [
    "### In the following section we scan through all LS grids and find the (x,bpf) points that create matching energy levels."
   ]
  },
  {
   "cell_type": "code",
   "execution_count": 9,
   "id": "04c0c0f1",
   "metadata": {
    "scrolled": true
   },
   "outputs": [
    {
     "name": "stdout",
     "output_type": "stream",
     "text": [
      "Energies as measured by paper (meV):   [168, 335, 385]\n"
     ]
    },
    {
     "ename": "KeyError",
     "evalue": "'LS_on'",
     "output_type": "error",
     "traceback": [
      "\u001b[0;31m---------------------------------------------------------------------------\u001b[0m",
      "\u001b[0;31mKeyError\u001b[0m                                  Traceback (most recent call last)",
      "\u001b[0;32m/var/folders/vq/mmg58sj542vb8d603nwpj5j00000gn/T/ipykernel_5626/288295673.py\u001b[0m in \u001b[0;36m<module>\u001b[0;34m\u001b[0m\n\u001b[1;32m      1\u001b[0m \u001b[0mprint\u001b[0m\u001b[0;34m(\u001b[0m\u001b[0;34m'Energies as measured by paper (meV):  '\u001b[0m\u001b[0;34m,\u001b[0m \u001b[0mEmeas\u001b[0m\u001b[0;34m)\u001b[0m\u001b[0;34m\u001b[0m\u001b[0;34m\u001b[0m\u001b[0m\n\u001b[1;32m      2\u001b[0m \u001b[0;34m\u001b[0m\u001b[0m\n\u001b[0;32m----> 3\u001b[0;31m \u001b[0mLSNames\u001b[0m\u001b[0;34m,\u001b[0m \u001b[0mEList\u001b[0m\u001b[0;34m,\u001b[0m \u001b[0mdata\u001b[0m \u001b[0;34m=\u001b[0m \u001b[0mloadMatrix\u001b[0m\u001b[0;34m(\u001b[0m\u001b[0msaveDir\u001b[0m\u001b[0;34m)\u001b[0m \u001b[0;31m#Load in all created 800x800 grids\u001b[0m\u001b[0;34m\u001b[0m\u001b[0;34m\u001b[0m\u001b[0m\n\u001b[0m\u001b[1;32m      4\u001b[0m \u001b[0;31m# LSNames = [LSNames[0]]\u001b[0m\u001b[0;34m\u001b[0m\u001b[0;34m\u001b[0m\u001b[0m\n\u001b[1;32m      5\u001b[0m \u001b[0;31m# EList = [EList[0]]\u001b[0m\u001b[0;34m\u001b[0m\u001b[0;34m\u001b[0m\u001b[0m\n",
      "\u001b[0;32m~/PrivateGitHub/CrystalField/CubicModel/../../JensenTools.py\u001b[0m in \u001b[0;36mloadMatrix\u001b[0;34m(runDir, **kwargs)\u001b[0m\n\u001b[1;32m     86\u001b[0m \u001b[0;31m#THIS WORKS since it can properly use my previously generated PrO2 data.\u001b[0m\u001b[0;34m\u001b[0m\u001b[0;34m\u001b[0m\u001b[0m\n\u001b[1;32m     87\u001b[0m \u001b[0;32mdef\u001b[0m \u001b[0mloadMatrix\u001b[0m\u001b[0;34m(\u001b[0m\u001b[0mrunDir\u001b[0m\u001b[0;34m,\u001b[0m \u001b[0;34m**\u001b[0m\u001b[0mkwargs\u001b[0m\u001b[0;34m)\u001b[0m\u001b[0;34m:\u001b[0m\u001b[0;34m\u001b[0m\u001b[0;34m\u001b[0m\u001b[0m\n\u001b[0;32m---> 88\u001b[0;31m         \u001b[0;32mif\u001b[0m \u001b[0mkwargs\u001b[0m\u001b[0;34m[\u001b[0m\u001b[0;34m'LS_on'\u001b[0m\u001b[0;34m]\u001b[0m\u001b[0;34m:\u001b[0m\u001b[0;34m\u001b[0m\u001b[0;34m\u001b[0m\u001b[0m\n\u001b[0m\u001b[1;32m     89\u001b[0m                 \u001b[0;31m#Where to save and load the energy data for contours\u001b[0m\u001b[0;34m\u001b[0m\u001b[0;34m\u001b[0m\u001b[0m\n\u001b[1;32m     90\u001b[0m                 \u001b[0mmatList\u001b[0m \u001b[0;34m=\u001b[0m \u001b[0mos\u001b[0m\u001b[0;34m.\u001b[0m\u001b[0mlistdir\u001b[0m\u001b[0;34m(\u001b[0m\u001b[0mrunDir\u001b[0m\u001b[0;34m)\u001b[0m \u001b[0;31m#The different LS calculations\u001b[0m\u001b[0;34m\u001b[0m\u001b[0;34m\u001b[0m\u001b[0m\n",
      "\u001b[0;31mKeyError\u001b[0m: 'LS_on'"
     ]
    }
   ],
   "source": [
    "print('Energies as measured by paper (meV):  ', Emeas)\n",
    "\n",
    "LSNames, EList, data = loadMatrix(saveDir) #Load in all created 800x800 grids\n",
    "# LSNames = [LSNames[0]]\n",
    "# EList = [EList[0]]\n",
    "# data = [data[0]]\n",
    "for c in range(len(LSNames)):\n",
    "    \n",
    "    #Loading the x,bpf, and LS of each file.\n",
    "    x = data[c]['X'][0]\n",
    "    bpf = data[c]['B'][0]\n",
    "    LS = data[c]['LS'][0][0]\n",
    "\n",
    "    plotContours(data[c],EList[c], LS_on = True,LSName =LSNames[c]) #Contour plotting for 4 E levels\n",
    "\n",
    "\n",
    "    #Choose which bands to look for compatibilities.\n",
    "    #For since we only measure 3 magnetic modes, only search for compatibilities with energies [E1,E2,E3].\n",
    "    index = [1,2,3]\n",
    "    Eindex = []\n",
    "    EListindex = []\n",
    "    for i in index:\n",
    "        Eindex.append(Emeas[i-1])\n",
    "        EListindex.append(EList[c][i-1])\n",
    "        \n",
    "    #Function call that searches for compatible (x,bpf) coordinates.\n",
    "    coords = paramFinder(data[c],EListindex,Eindex,tol,comp,LSNames[c])\n",
    "\n",
    "    #Printing results\n",
    "    if len(coords) !=0:\n",
    "        for j in [coords[0]]:\n",
    "            print('!!! Compatibilities Found !!!')\n",
    "            print('With x = ', x[j[0]], ' and bpf = ', bpf[j[1]])\n",
    "            count = 1\n",
    "            for i in EList[c]:\n",
    "                print('E%i = '%count, data[c][i][j[0]][j[1]], 'meV')\n",
    "                count += 1\n",
    "            print()\n",
    "    else:\n",
    "        print('No compatibilities found')\n",
    "\n",
    "    \n",
    "    #If there is a compatibility then print an example of the matrix generated by PCF with cubic constraints.\n",
    "    if(len(coords) != 0):\n",
    "        print('\\nFor ', LSNames[c])\n",
    "        xind,bind = coords[0][0], coords[0][1]\n",
    "\n",
    "        print('\\nFor ', comp, ' at x[%i] = %.4f and bpf[%i] = %.4f'%(xind,x[xind],bind,bpf[bind]))\n",
    "        print('Using these values lets construct the CF Hamiltonian\\n')\n",
    "        printPCFEigens(x[xind],bpf[bind],LS)\n"
   ]
  },
  {
   "cell_type": "markdown",
   "id": "7e958e49",
   "metadata": {},
   "source": [
    "### We find results for LS = 60 and LS = 100. Since Sr2PrO4 has the central ion Pr4+ which has a reported LS value of ~107meV, I decide to use the results from the LS = 100 run as my starting point for Crystal Field fitting.\n",
    "\n",
    "LS = 100, x = 0.03629536921151444, and bpf = -0.6570713391739674"
   ]
  }
 ],
 "metadata": {
  "kernelspec": {
   "display_name": "Python 3 (ipykernel)",
   "language": "python",
   "name": "python3"
  },
  "language_info": {
   "codemirror_mode": {
    "name": "ipython",
    "version": 3
   },
   "file_extension": ".py",
   "mimetype": "text/x-python",
   "name": "python",
   "nbconvert_exporter": "python",
   "pygments_lexer": "ipython3",
   "version": "3.9.7"
  }
 },
 "nbformat": 4,
 "nbformat_minor": 5
}
