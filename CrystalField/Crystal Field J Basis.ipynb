{
 "cells": [
  {
   "cell_type": "code",
   "execution_count": 5,
   "id": "dc7bc845",
   "metadata": {},
   "outputs": [],
   "source": [
    "%reload_ext autoreload\n",
    "import sys\n",
    "sys.path.append('..')\n",
    "import JensenTools as JT\n",
    "from lmfit import Model\n",
    "import PyCrystalField as cef\n",
    "import numpy as np\n",
    "import matplotlib.pyplot as plt\n",
    "import pandas as pd\n",
    "import seaborn\n",
    "seaborn.set()"
   ]
  },
  {
   "cell_type": "code",
   "execution_count": 6,
   "id": "10b386bf",
   "metadata": {},
   "outputs": [],
   "source": [
    "B40  =  -0.6568663783690575\n",
    "B60  =  -0.02328250024945387\n",
    "LS  =  100.00007580463522\n",
    "B44  =  -3.1415463304732714\n",
    "B64  =  0.504906552605772\n",
    "B20  =  0.4858075931009187"
   ]
  },
  {
   "cell_type": "code",
   "execution_count": 7,
   "id": "fad182f1",
   "metadata": {},
   "outputs": [
    {
     "name": "stdout",
     "output_type": "stream",
     "text": [
      "\n",
      " Eigenvalues \t Eigenvectors\n",
      "\t\t-------------------------------------------------\n",
      "0.00000 \t|  [0. 0. 1. 0. 0. 0.]  |\n",
      "0.00000 \t|  [ 0.  0.  0. -1.  0.  0.]  |\n",
      "10.62799 \t|  [ 0.    -0.407  0.     0.     0.    -0.914]  |\n",
      "10.62799 \t|  [-0.914  0.     0.     0.    -0.407  0.   ]  |\n",
      "237.50329 \t|  [ 0.407  0.     0.     0.    -0.914  0.   ]  |\n",
      "237.50329 \t|  [ 0.     0.914  0.     0.     0.    -0.407]  |\n",
      "\t\t-------------------------------------------------\n",
      "\n"
     ]
    }
   ],
   "source": [
    "stev = {'B20': B20, 'B40': B40, 'B44': B44, 'B60' : B60 , 'B64' : B64}\n",
    "Pr = cef.CFLevels.Bdict(Bdict = stev, ion = 'Ce3+')\n",
    "Pr.diagonalize()\n",
    "Pr.printEigenvectors()"
   ]
  },
  {
   "cell_type": "code",
   "execution_count": null,
   "id": "a6890dd6",
   "metadata": {},
   "outputs": [],
   "source": []
  }
 ],
 "metadata": {
  "kernelspec": {
   "display_name": "Python 3 (ipykernel)",
   "language": "python",
   "name": "python3"
  },
  "language_info": {
   "codemirror_mode": {
    "name": "ipython",
    "version": 3
   },
   "file_extension": ".py",
   "mimetype": "text/x-python",
   "name": "python",
   "nbconvert_exporter": "python",
   "pygments_lexer": "ipython3",
   "version": "3.9.7"
  }
 },
 "nbformat": 4,
 "nbformat_minor": 5
}
