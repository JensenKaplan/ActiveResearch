{
 "cells": [
  {
   "cell_type": "markdown",
   "id": "4d648f56",
   "metadata": {},
   "source": [
    "# Fitting to get the powder average coefficients.\n",
    "After fitting CF eigenvalues to neutron data the susceptibility as calculated by PCF is orders of magnitude off of our measurements. Turns out PCF does powder averaging by summing in all three directions then dividing by 3. This is a commonly used tool.\n",
    "However, with our systems g-tensor the g<sub>xx</sub> = g<sub>yy</sub> > g<sub>zz</sub> by almost 3 times. \n",
    "\n",
    "[This paper](https://arxiv.org/ftp/arxiv/papers/1312/1312.2401.pdf) demonstrates that 1/3 factor may not be true for all systems.\n",
    "\n",
    "I decide to fit predicted magnetization to measurements by allowing the coefficients for each magnetization direction to vary. After this magnetization fitting we gather the prefactors that properly scales PCF's prediction."
   ]
  },
  {
   "cell_type": "code",
   "execution_count": 25,
   "id": "9bcf7a99",
   "metadata": {},
   "outputs": [],
   "source": [
    "import sys\n",
    "sys.path.append('..')\n",
    "from JensenTools import *\n",
    "import seaborn as sns\n",
    "sns.set()"
   ]
  },
  {
   "cell_type": "markdown",
   "id": "08d19ae6",
   "metadata": {},
   "source": [
    "## Declare important variables."
   ]
  },
  {
   "cell_type": "code",
   "execution_count": 26,
   "id": "5b079ce9",
   "metadata": {},
   "outputs": [],
   "source": [
    "# Define important things\n",
    "#####################################################################################################################################################################\n",
    "comp = 'Sr2PrO4'\n",
    "who = 'Arun'\n",
    "ion = 'Ce3+'\n",
    "LS_on = True\n",
    "per = 'spin'\n",
    "molweight = molweight[comp]\n",
    "# The L,S values are as follows for the Pr4+ ion\n",
    "L = 3\n",
    "S = 0.5\n",
    "#####################################################################################################################################################################"
   ]
  },
  {
   "cell_type": "markdown",
   "id": "99a0b6a7",
   "metadata": {},
   "source": [
    "## LMFIT Model for fitting coefficients of powder averaging"
   ]
  },
  {
   "cell_type": "code",
   "execution_count": 27,
   "id": "2dcf9ca4",
   "metadata": {},
   "outputs": [],
   "source": [
    "# Function to be made into an LMFIT model.\n",
    "def magFit(Pr,a,c, HTes, **kwargs ):\n",
    "    mag = []\n",
    "    if kwargs['LS_on']:\n",
    "        for i in HTes:\n",
    "            mag.append(a*Pr.magnetization(Temp = Temp, Field = [i, 0, 0])[0] + a*Pr.magnetization(Temp = Temp, Field = [0, i, 0])[1] + c*Pr.magnetization(Temp = Temp, Field = [0, 0, i])[2])\n",
    "    else:\n",
    "        for i in HTes:\n",
    "            mag.append(a*Pr.magnetization(Temp = Temp, Field = [i, 0, 0], ion = ion)[0] + a*Pr.magnetization(Temp = Temp, Field = [0, i, 0], ion = ion)[1] + c*Pr.magnetization(Temp = Temp, Field = [0, 0, i], ion = ion)[2])\n",
    "    return -1*np.array(mag)"
   ]
  },
  {
   "cell_type": "markdown",
   "id": "9174d1aa",
   "metadata": {},
   "source": [
    "## Best fit Stevens coefficients from fitting to energy"
   ]
  },
  {
   "cell_type": "code",
   "execution_count": 28,
   "id": "7eda15b9",
   "metadata": {},
   "outputs": [],
   "source": [
    "#Best Fit LS\n",
    "#####################################################################################################################################################################\n",
    "if LS_on:\n",
    "\tB40  =  -0.6568663783690575\n",
    "\tB60  =  -0.02328250024945387\n",
    "\tLS  =  100.00007580463522\n",
    "\tB44  =  -3.1415463304732714\n",
    "\tB64  =  0.504906552605772\n",
    "\tB20  =  0.4858075931009187\n",
    "#####################################################################################################################################################################\n",
    "\n",
    "# Best Fit J\n",
    "#####################################################################################################################################################################\n",
    "if not LS_on:\n",
    "\t# # Red Chi = ~.01\n",
    "\tB40  =  -0.5572886105373519\n",
    "\tB60  =  0.4673\n",
    "\tB44  =  -3.0946858584804335\n",
    "\tB64  =  -9.8133\n",
    "\tB20  =  12.606195720794622\n",
    "#####################################################################################################################################################################\n",
    "\n",
    "# Create Pr CFLevels object using the best fit coefficients.\n",
    "#####################################################################################################################################################################\n",
    "stev = { 'B20' :B20, 'B40': B40, 'B44' : B44, 'B60': B60, 'B64' : B64 }\n",
    "#Create the CFLevels object and diagonalize it\n",
    "if LS_on:\n",
    "\tPr = cef.LS_CFLevels.Bdict(Bdict = stev, L = L, S = S, SpinOrbitCoupling=LS)\n",
    "\tPr.diagonalize()\n",
    "else:\n",
    "\tPr = cef.CFLevels.Bdict(Bdict = stev, ion = ion)\n",
    "\tPr.diagonalize()\n",
    "#####################################################################################################################################################################"
   ]
  },
  {
   "cell_type": "markdown",
   "id": "e140aa3a",
   "metadata": {},
   "source": [
    "## Loading M vs H measured data and choosing a temperature run."
   ]
  },
  {
   "cell_type": "code",
   "execution_count": 29,
   "id": "32ed105f",
   "metadata": {},
   "outputs": [],
   "source": [
    "# Loading data for M vs H\n",
    "#####################################################################################################################################################################\n",
    "saveDir = getSaveDir('m',comp = comp) #General Directory for the project\n",
    "MHDir = getSaveDir('m',comp = comp, dataType = 'MH') #MvsH data\n",
    "\n",
    "runs = []\n",
    "for i in os.listdir(MHDir):\n",
    "    if i.endswith('.DAT'): #This was a safeguard against a situation arising at an earlier implementation of my code.\n",
    "        runs.append(i)\n",
    "MHdata = {}\n",
    "for i in runs:\n",
    "    M, H, Err, mass, T = getData(i,MHDir,who = who, dataType = 'MH')\n",
    "    M = normalize(M,mass,molweight, per)\n",
    "    Err = normalize(Err,mass,molweight, per)\n",
    "    MHdata[T] = [M,H,Err,mass,i]\n",
    "#####################################################################################################################################################################\n",
    "\n",
    "\n",
    "# Choosing 20K run\n",
    "T = '20K'\n",
    "Temp = getTemp(MHdata[T][-1], who = who)\n",
    "M, H, Err, mass, filename = MHdata[T]\n",
    "\n",
    "MBohr = emuToBohr2(M)\n",
    "HTes = oeToTesla(H)"
   ]
  },
  {
   "cell_type": "markdown",
   "id": "45ee1fd2",
   "metadata": {},
   "source": [
    "## Fit the model to data allowing powder average coefficients to vary."
   ]
  },
  {
   "cell_type": "code",
   "execution_count": 30,
   "id": "be28819a",
   "metadata": {
    "scrolled": true
   },
   "outputs": [
    {
     "name": "stdout",
     "output_type": "stream",
     "text": [
      "Name     Value      Min      Max   Stderr     Vary     Expr Brute_Step\n",
      "a    0.0001   0.0001        1 0.0005704     True     None     None\n",
      "c    0.9999     -inf      inf 0.0005704    False      1-a     None\n"
     ]
    }
   ],
   "source": [
    "# Make LMFIT model and fit\n",
    "# Create stevens coefficients dictionary from fitted parameters\n",
    "#####################################################################################################################################################################\n",
    "magModel = Model(magFit, independent_vars = ['HTes', 'Pr'])\n",
    "params = magModel.make_params()\n",
    "\n",
    "# Bounded\n",
    "# params['a'].set(value = 1/3, min = .0001, max = 1)\n",
    "# params['b'].set(value = 1/3, min = .0001, max = 1)\n",
    "# params['c'].set(value = 1/3, min = .001, max = 1)\n",
    "\n",
    "params['a'].set(value = 1/3, min = .0001, max = 1)\n",
    "params.add('c', expr = '1-a' )\n",
    "\n",
    "## Unbounded\n",
    "# params['a'].set(value = 1/3)\n",
    "# params['b'].set(value = 1/3)\n",
    "# params['c'].set(value = 1/3)\n",
    "\n",
    "if LS_on:\n",
    "    a = 0.007752\n",
    "    b = .02325\n",
    "    c = .629\n",
    "else:\n",
    "    a = 0.001022\n",
    "    b = 0.02823\n",
    "    c = 0.82\n",
    "\n",
    "# Fit model to data\n",
    "fitted = magModel.fit(MBohr,params,Pr = Pr, HTes = HTes, LS_on = LS_on, ion = ion)\n",
    "fitted.params.pretty_print()"
   ]
  },
  {
   "cell_type": "markdown",
   "id": "8db55998",
   "metadata": {},
   "source": [
    "## Plot"
   ]
  },
  {
   "cell_type": "code",
   "execution_count": 31,
   "id": "67b9b8ec",
   "metadata": {},
   "outputs": [
    {
     "data": {
      "image/png": "[encoded data removed]",
      "text/plain": [
       "<Figure size 432x288 with 1 Axes>"
      ]
     },
     "metadata": {},
     "output_type": "display_data"
    }
   ],
   "source": [
    "plt.figure()\n",
    "plt.plot(HTes,MBohr, label = 'Measured')\n",
    "plt.plot(HTes, fitted.best_fit, label = 'Powder Averaging Fitted')\n",
    "plt.xlabel('Field (T)')\n",
    "plt.ylabel('Magnetization (uB / spin)')\n",
    "plt.title('Powder {} Magnetization at {} K'.format(comp,Temp))\n",
    "plt.legend()\n",
    "plt.show()"
   ]
  },
  {
   "cell_type": "code",
   "execution_count": 37,
   "id": "c1c271e6",
   "metadata": {},
   "outputs": [
    {
     "data": {
      "text/plain": [
       "<matplotlib.legend.Legend at 0x7f9e801ce160>"
      ]
     },
     "execution_count": 37,
     "metadata": {},
     "output_type": "execute_result"
    },
    {
     "data": {
      "image/png": "[encoded data removed]",
      "text/plain": [
       "<Figure size 432x288 with 1 Axes>"
      ]
     },
     "metadata": {},
     "output_type": "display_data"
    }
   ],
   "source": [
    "# ## PCF Susceptibility\n",
    "#####################################################################################################################################################################\n",
    "MTDir = getSaveDir('m',comp = comp, dataType = 'MT')\n",
    "runs = []\n",
    "for i in os.listdir(MTDir):\n",
    "    if i.endswith('.DAT') or i.endswith('.dat'): #This was a safeguard against a situation arising at an earlier implementation of my code.\n",
    "        runs.append(i)\n",
    "\n",
    "MTdata = {}\n",
    "for i in runs:\n",
    "    M,H,T,Err,samplemass,measType = getData(i,MTDir, who = who, dataType = 'MT')\n",
    "    M = normalize(M,mass,molweight, 'spin')\n",
    "    Err = normalize(Err,mass,molweight, 'spin')    \n",
    "    MTdata[measType] = [M,H,T,Err,samplemass]\n",
    "    # plt.errorbar(H,M, yerr = Err, label = name)\n",
    "\n",
    "M,H,T,Err,samplemass = MTdata['FC']\n",
    "\n",
    "MBohr = emuToBohr2(M)\n",
    "HTes = oeToTesla(H)\n",
    "X = MBohr/HTes\n",
    "Xi  = 1/X\n",
    "\n",
    "Xcalc = []\n",
    "Ha = .1\n",
    "if LS_on:\n",
    "    for i in T:\n",
    "        Xcalc.append(fitted.params['a']*Pr.magnetization(Temp = i, Field = [Ha, 0, 0])[0] + fitted.params['a']*Pr.magnetization(Temp = i, Field = [0, Ha, 0])[1] + fitted.params['c']*Pr.magnetization(Temp = i, Field = [0, 0, Ha])[2])\n",
    "else:   \n",
    "    for i in T:\n",
    "        Xcalc.append(fitted.params['a']*Pr.magnetization(Temp = i, Field = [Ha, 0, 0], ion = ion)[0] + fitted.params['a']*Pr.magnetization(Temp = i, Field = [0, Ha, 0], ion = ion)[1] + fitted.params['c']*Pr.magnetization(Temp = i, Field = [0, 0, Ha], ion = ion)[2])\n",
    "\n",
    "Xcalc = -np.array(Xcalc)/Ha\n",
    "Xicalc = 1/Xcalc\n",
    "plt.plot(T,Xi, label = 'Measured')\n",
    "plt.plot(T,Xicalc, label = 'Calculated')\n",
    "plt.title('{} Inverse Susceptibility in {} T Field'.format(comp,Ha))\n",
    "plt.xlabel('Temperature (K)')\n",
    "plt.ylabel('Moment (uB)')\n",
    "plt.legend()"
   ]
  },
  {
   "cell_type": "code",
   "execution_count": null,
   "id": "e7eb5e47",
   "metadata": {},
   "outputs": [],
   "source": []
  }
 ],
 "metadata": {
  "kernelspec": {
   "display_name": "Python 3 (ipykernel)",
   "language": "python",
   "name": "python3"
  },
  "language_info": {
   "codemirror_mode": {
    "name": "ipython",
    "version": 3
   },
   "file_extension": ".py",
   "mimetype": "text/x-python",
   "name": "python",
   "nbconvert_exporter": "python",
   "pygments_lexer": "ipython3",
   "version": "3.9.7"
  }
 },
 "nbformat": 4,
 "nbformat_minor": 5
}
