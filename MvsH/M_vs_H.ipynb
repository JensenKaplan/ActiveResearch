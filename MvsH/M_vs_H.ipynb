{
 "cells": [
  {
   "cell_type": "code",
   "execution_count": 72,
   "metadata": {},
   "outputs": [],
   "source": [
    "import numpy as np\n",
    "import matplotlib.pyplot as plt\n",
    "import os\n",
    "import seaborn as sns\n",
    "from lmfit.models import LinearModel\n",
    "import pandas as pd\n",
    "from JensenTools import *\n",
    "sns.set()"
   ]
  },
  {
   "cell_type": "markdown",
   "metadata": {},
   "source": [
    "# My functions"
   ]
  },
  {
   "cell_type": "code",
   "execution_count": 73,
   "metadata": {},
   "outputs": [],
   "source": [
    "# Takes a filename and data directory\n",
    "# Returns the field, magnetic moment, error, and name (temperature) of the run\n",
    "# field, moment, and error are returned as np arrays\n",
    "# name is returned as a string\n",
    "## Note that the name handling is hardcoded for how my lab conventionally names our files.\n",
    "def getData(magrun, dataDir):\n",
    "    name = magrun.split('_')[-1].split('.')[0]\n",
    "    mass = magrun.split('_')[3]\n",
    "    mass = mass.replace('P','.')\n",
    "    mass = mass[:-2]\n",
    "    measType = magrun.split('_')[-1].split('.')[0]\n",
    "    \n",
    "    f = open(dataDir + magrun)\n",
    "    while f.readline().strip() != '[Data]':\n",
    "        pass\n",
    "    df = pd.read_csv(f)\n",
    "    df.dropna(subset = ['Magnetic Field (Oe)','M. Std. Err. (emu)'],inplace = True)\n",
    "    T = np.array(df['Temperature (K)'])\n",
    "    H = np.array(df['Magnetic Field (Oe)'])\n",
    "    E = np.array(df['M. Std. Err. (emu)'])\n",
    "    Mom = np.array(df['Moment (emu)']) \n",
    "    return H, Mom, E, name\n",
    "\n",
    "def getMass(filename):\n",
    "    mass = filename.split('_')[3]\n",
    "    mass = mass.replace('P','.')\n",
    "    mass = mass[:-2]\n",
    "    mass = float(mass)\n",
    "    mass = mass/1000\n",
    "    return mass\n",
    "\n",
    "def getTemp(filename):\n",
    "    temp = filename.split('_')[-1].split('.')[0][:-1]\n",
    "    temp = float(temp)\n",
    "    return temp\n",
    "\n",
    "#Takes a list of moments (in emu), sample mass, and molecular weight\n",
    "#Returns list of moments (in Bohr Magnetons)\n",
    "def emuToBohr(emuM,mass,molweight):\n",
    "    avo =6.0221409e+23 #part/mol\n",
    "    bohr = 9.274e-21 #emu / Bohr magneton = erg/G/Bohrmag\n",
    "    if (isinstance(emuM,list)):\n",
    "        bohrM = []\n",
    "        for i in M:\n",
    "            bohrM.append(i/(mass/molweight*avo*bohr))\n",
    "    else:\n",
    "        bohrM = emuM/(mass/molweight*avo*bohr)\n",
    "    return bohrM\n",
    "\n",
    "#Takes in a list of magnetic field (in Oe)\n",
    "#Returns a list of magnetic fields (in Tesla)\n",
    "def oeToTesla(H):\n",
    "    newH = H/10000\n",
    "    return newH"
   ]
  },
  {
   "cell_type": "markdown",
   "metadata": {},
   "source": [
    "# Load the M vs H data files\n",
    "## Manually name the sample in the variable \"comp\"\n",
    "## Manually enter the molecular weight (g/mol)\n",
    "## Load the sample mass (grams) as read in by one of the data files' name\n",
    "\n",
    "Molecular weight calculated by https://www.lenntech.com/calculators/molecular/molecular-weight-calculator.htm"
   ]
  },
  {
   "cell_type": "code",
   "execution_count": 74,
   "metadata": {},
   "outputs": [],
   "source": [
    "dataDir = 'data/' #Where the measured data files are stored\n",
    "runs = [] #A list of all the data file names\n",
    "for i in os.listdir(dataDir):\n",
    "    if i.endswith('.DAT'): #This was a safeguard against a situation arising at an earlier implementation of my code.\n",
    "        runs.append(i)\n",
    "\n",
    "comp = 'Sr2PrO4'\n",
    "molweight = 380.15\n",
    "mass = getMass(runs[0])\n",
    "T = getTemp(runs[0])"
   ]
  },
  {
   "cell_type": "markdown",
   "metadata": {},
   "source": [
    "# Order the files by temperature\n",
    "This guarantees nicer plotting"
   ]
  },
  {
   "cell_type": "code",
   "execution_count": 75,
   "metadata": {},
   "outputs": [],
   "source": [
    "temp = [] #The newly sorted list\n",
    "for i in runs:\n",
    "    temp.append(getTemp(i)) #this creates a list of just temperatures as read by the filename\n",
    "   \n",
    "temp = np.argsort([int(i) for i in temp]) #Sort by temperature\n",
    "runs = [runs[i] for i in temp]"
   ]
  },
  {
   "cell_type": "markdown",
   "metadata": {},
   "source": [
    "# Plot all runs and store data in dictionary 'data'\n",
    "## H = Applied magnetic field, M = Magnetization, Err = Error on the Magnetization measurement"
   ]
  },
  {
   "cell_type": "code",
   "execution_count": 76,
   "metadata": {},
   "outputs": [
    {
     "data": {
      "image/png": "[encoded data removed]",
      "text/plain": [
       "<Figure size 432x288 with 1 Axes>"
      ]
     },
     "metadata": {},
     "output_type": "display_data"
    }
   ],
   "source": [
    "#This dictionary easily allows me to access the data from a specific run\n",
    "## {'Temperature': [H,M,Err]} \n",
    "data = {}\n",
    "plt.figure()\n",
    "for i in runs:\n",
    "    H, M, Err, name = getData(i,dataDir)\n",
    "    M = emuToBohr(M,mass,molweight)\n",
    "    H = oeToTesla(H)\n",
    "    Err = emuToBohr(Err,mass,molweight)\n",
    "    data[name] = [H,M,Err]\n",
    "    plt.errorbar(H,M, yerr = Err, label = name)\n",
    "\n",
    "plt.title(comp)\n",
    "plt.ylabel('Moment (\\N{GREEK SMALL LETTER MU}B)')\n",
    "plt.xlabel('Field (T)')\n",
    "plt.legend()\n",
    "plt.show()"
   ]
  },
  {
   "cell_type": "markdown",
   "metadata": {},
   "source": [
    "# Choose a run to fit for saturation magnetization.\n",
    "## Usually the lowest temperature run"
   ]
  },
  {
   "cell_type": "code",
   "execution_count": 77,
   "metadata": {},
   "outputs": [],
   "source": [
    "temp = '20K'\n",
    "curRun = data[temp] #loading the data from my current run\n",
    "H = curRun[0]\n",
    "M = curRun[1]\n",
    "Err = curRun[2]"
   ]
  },
  {
   "cell_type": "markdown",
   "metadata": {},
   "source": [
    "# Choose your field range to fit over.\n",
    "## The saturation magnetization is a linear fit and should be fitted within a reasonable magnetic field range that makes sense for the system."
   ]
  },
  {
   "cell_type": "code",
   "execution_count": 78,
   "metadata": {},
   "outputs": [],
   "source": [
    "fieldRange = [0,14]\n",
    "newH = []\n",
    "newM = []\n",
    "newErr = []\n",
    "for i in range(len(curRun[0])):\n",
    "    if (H[i] >= fieldRange[0] and H[i] <= fieldRange[1]):\n",
    "        newH.append(H[i])\n",
    "        newM.append(M[i])\n",
    "        newErr.append(Err[i])\n"
   ]
  },
  {
   "cell_type": "markdown",
   "metadata": {},
   "source": [
    "# Create the linear model and fit to the data over the desired range."
   ]
  },
  {
   "cell_type": "code",
   "execution_count": 79,
   "metadata": {},
   "outputs": [],
   "source": [
    "linModel = LinearModel()\n",
    "params = linModel.guess(newM, x = newH)\n",
    "fitted = linModel.fit(newM, x = newH, weights = newErr)"
   ]
  },
  {
   "cell_type": "markdown",
   "metadata": {},
   "source": [
    "# Create a full length line using the fitted parameters."
   ]
  },
  {
   "cell_type": "code",
   "execution_count": 80,
   "metadata": {},
   "outputs": [],
   "source": [
    "MLine = []\n",
    "for i in H:\n",
    "    MLine.append(fitted.params['slope'].value*i + fitted.params['intercept'].value)"
   ]
  },
  {
   "cell_type": "markdown",
   "metadata": {},
   "source": [
    "# Plot the data and the fit"
   ]
  },
  {
   "cell_type": "code",
   "execution_count": 81,
   "metadata": {
    "scrolled": true
   },
   "outputs": [
    {
     "data": {
      "image/png": "[encoded data removed]",
      "text/plain": [
       "<Figure size 432x288 with 1 Axes>"
      ]
     },
     "metadata": {},
     "output_type": "display_data"
    },
    {
     "name": "stdout",
     "output_type": "stream",
     "text": [
      "Saturation magnetization =  0.001 bohr magneton\n"
     ]
    }
   ],
   "source": [
    "plt.plot(H,M, label = temp)\n",
    "plt.plot(H,MLine, linestyle = '--', label = 'Fitted')\n",
    "plt.xlabel('Field (T)')\n",
    "plt.ylabel('Magnetization (bohr magneton)')\n",
    "plt.legend()\n",
    "plt.title(comp)\n",
    "plt.show()\n",
    "\n",
    "print('Saturation magnetization =  {:.3f} bohr magneton'.format(fitted.params['intercept'].value))"
   ]
  }
 ],
 "metadata": {
  "kernelspec": {
   "display_name": "Python 3 (ipykernel)",
   "language": "python",
   "name": "python3"
  },
  "language_info": {
   "codemirror_mode": {
    "name": "ipython",
    "version": 3
   },
   "file_extension": ".py",
   "mimetype": "text/x-python",
   "name": "python",
   "nbconvert_exporter": "python",
   "pygments_lexer": "ipython3",
   "version": "3.9.7"
  }
 },
 "nbformat": 4,
 "nbformat_minor": 4
}
