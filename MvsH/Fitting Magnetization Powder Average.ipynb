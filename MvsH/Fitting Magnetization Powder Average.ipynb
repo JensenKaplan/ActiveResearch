{
 "cells": [
  {
   "cell_type": "markdown",
   "id": "c3aa626a",
   "metadata": {},
   "source": [
    "# Fitting to get the powder average coefficients.\n",
    "After fitting CF eigenvalues to neutron data the susceptibility as calculated by PCF is orders of magnitude off of our measurements. Turns out PCF does powder averaging by summing in all three directions then dividing by 3. This is a commonly used tool.\n",
    "However, with our systems g-tensor the g<sub>xx</sub> = g<sub>yy</sub> > g<sub>zz</sub> by almost 3 times. \n",
    "\n",
    "[This paper](https://arxiv.org/ftp/arxiv/papers/1312/1312.2401.pdf) demonstrates that 1/3 factor may not be true for all systems.\n",
    "\n",
    "I decide to fit predicted magnetization to measurements by allowing the coefficients for each magnetization direction to vary. After this magnetization fitting we gather the prefactors that properly scales PCF's prediction."
   ]
  },
  {
   "cell_type": "code",
   "execution_count": 7,
   "id": "d4db6156",
   "metadata": {},
   "outputs": [],
   "source": [
    "import sys\n",
    "sys.path.append('..')\n",
    "from JensenTools import *\n",
    "import seaborn as sns\n",
    "sns.set()"
   ]
  },
  {
   "cell_type": "markdown",
   "id": "9660144e",
   "metadata": {},
   "source": [
    "## Declare important variables."
   ]
  },
  {
   "cell_type": "code",
   "execution_count": 8,
   "id": "55f49630",
   "metadata": {},
   "outputs": [],
   "source": [
    "# Define important things\n",
    "#####################################################################################################################################################################\n",
    "comp = 'Sr2PrO4'\n",
    "who = 'Arun'\n",
    "ion = 'Ce3+'\n",
    "LS_on = True\n",
    "per = 'spin'\n",
    "molweight = molweight[comp]\n",
    "# The L,S values are as follows for the Pr4+ ion\n",
    "L = 3\n",
    "S = 0.5\n",
    "#####################################################################################################################################################################"
   ]
  },
  {
   "cell_type": "markdown",
   "id": "1ea9753e",
   "metadata": {},
   "source": [
    "## LMFIT Model for fitting coefficients of powder averaging"
   ]
  },
  {
   "cell_type": "code",
   "execution_count": 9,
   "id": "d32d2b13",
   "metadata": {},
   "outputs": [],
   "source": [
    "# Function to be made into an LMFIT model.\n",
    "def magFit(Pr,a,b,c, HTes, **kwargs ):\n",
    "    mag = []\n",
    "    if kwargs['LS_on']:\n",
    "        for i in HTes:\n",
    "            mag.append(a*Pr.magnetization(Temp = Temp, Field = [i, 0, 0])[0] + b*Pr.magnetization(Temp = Temp, Field = [0, i, 0])[1] + c*Pr.magnetization(Temp = Temp, Field = [0, 0, i])[2])\n",
    "    else:\n",
    "        for i in HTes:\n",
    "            mag.append(a*Pr.magnetization(Temp = Temp, Field = [i, 0, 0], ion = ion)[0] + b*Pr.magnetization(Temp = Temp, Field = [0, i, 0], ion = ion)[1] + c*Pr.magnetization(Temp = Temp, Field = [0, 0, i], ion = ion)[2])\n",
    "    return -1*np.array(mag)"
   ]
  },
  {
   "cell_type": "markdown",
   "id": "13c72f6d",
   "metadata": {},
   "source": [
    "## Best fit Stevens coefficients from fitting to energy"
   ]
  },
  {
   "cell_type": "code",
   "execution_count": 10,
   "id": "42d97167",
   "metadata": {},
   "outputs": [],
   "source": [
    "#Best Fit LS\n",
    "#####################################################################################################################################################################\n",
    "if LS_on:\t\n",
    "\tB40  =  -0.6568663783690575\n",
    "\tB60  =  -0.02328250024945387\n",
    "\tLS  =  100.00007580463522\n",
    "\tB44  =  -3.1415463304732714\n",
    "\tB64  =  0.504906552605772\n",
    "\tB20  =  0.4858075931009187\n",
    "#####################################################################################################################################################################\n",
    "\n",
    "# Best Fit J\n",
    "#####################################################################################################################################################################\n",
    "if not LS_on:\n",
    "\t# # Red Chi = ~.01\n",
    "\tB40  =  -0.5572886105373519\n",
    "\tB60  =  0.4673\n",
    "\tB44  =  -3.0946858584804335\n",
    "\tB64  =  -9.8133\n",
    "\tB20  =  12.606195720794622\n",
    "#####################################################################################################################################################################\n",
    "\n",
    "# Create Pr CFLevels object using the best fit coefficients.\n",
    "#####################################################################################################################################################################\n",
    "stev = { 'B20' :B20, 'B40': B40, 'B44' : B44, 'B60': B60, 'B64' : B64 }\n",
    "#Create the CFLevels object and diagonalize it\n",
    "if LS_on:\n",
    "\tPr = cef.LS_CFLevels.Bdict(Bdict = stev, L = L, S = S, SpinOrbitCoupling=LS)\n",
    "\tPr.diagonalize()\n",
    "else:\n",
    "\tPr = cef.CFLevels.Bdict(Bdict = stev, ion = ion)\n",
    "\tPr.diagonalize()\n",
    "#####################################################################################################################################################################"
   ]
  },
  {
   "cell_type": "markdown",
   "id": "3b1c648d",
   "metadata": {},
   "source": [
    "## Loading M vs H measured data and choosing a temperature run."
   ]
  },
  {
   "cell_type": "code",
   "execution_count": 11,
   "id": "a1e43248",
   "metadata": {},
   "outputs": [],
   "source": [
    "# Loading data for M vs H\n",
    "#####################################################################################################################################################################\n",
    "saveDir = getSaveDir('m',comp = comp) #General Directory for the project\n",
    "MHDir = getSaveDir('m',comp = comp, dataType = 'MH') #MvsH data\n",
    "\n",
    "runs = []\n",
    "for i in os.listdir(MHDir):\n",
    "    if i.endswith('.DAT'): #This was a safeguard against a situation arising at an earlier implementation of my code.\n",
    "        runs.append(i)\n",
    "MHdata = {}\n",
    "for i in runs:\n",
    "    M, H, Err, mass, T = getData(i,MHDir,who = who, dataType = 'MH')\n",
    "    M = normalize(M,mass,molweight, per)\n",
    "    Err = normalize(Err,mass,molweight, per)\n",
    "    MHdata[T] = [M,H,Err,mass,i]\n",
    "#####################################################################################################################################################################\n",
    "\n",
    "\n",
    "# Choosing 20K run\n",
    "T = '20K'\n",
    "Temp = getTemp(MHdata[T][-1], who = who)\n",
    "M, H, Err, mass, filename = MHdata[T]\n",
    "\n",
    "MBohr = emuToBohr2(M)\n",
    "HTes = oeToTesla(H)"
   ]
  },
  {
   "cell_type": "markdown",
   "id": "f20ec374",
   "metadata": {},
   "source": [
    "## Fit the model to data allowing powder average coefficients to vary."
   ]
  },
  {
   "cell_type": "code",
   "execution_count": 12,
   "id": "36d96f0f",
   "metadata": {},
   "outputs": [
    {
     "name": "stdout",
     "output_type": "stream",
     "text": [
      "Name     Value      Min      Max   Stderr     Vary     Expr Brute_Step\n",
      "a   0.02266   0.0001        1      nan     True     None     None\n",
      "b  0.008336   0.0001        1      nan     True     None     None\n",
      "c     0.629   0.0001        1        0     True     None     None\n"
     ]
    }
   ],
   "source": [
    "# Make LMFIT model and fit\n",
    "# Create stevens coefficients dictionary from fitted parameters\n",
    "#####################################################################################################################################################################\n",
    "magModel = Model(magFit, independent_vars = ['HTes', 'Pr'])\n",
    "params = magModel.make_params()\n",
    "\n",
    "# Bounded\n",
    "params['a'].set(value = 1/3, min = .0001, max = 1 )\n",
    "params['b'].set(value = 1/3, min = .0001, max = 1  )\n",
    "params['c'].set(value = 1/3, min = .0001, max = 1  )\n",
    "\n",
    "## Unbounded\n",
    "# params['a'].set(value = 1/3)\n",
    "# params['b'].set(value = 1/3)\n",
    "# params['c'].set(value = 1/3)\n",
    "\n",
    "# Fit model to data\n",
    "fitted = magModel.fit(MBohr,params,Pr = Pr, HTes = HTes, LS_on = LS_on, ion = ion)\n",
    "fitted.params.pretty_print()"
   ]
  },
  {
   "cell_type": "markdown",
   "id": "344e9f78",
   "metadata": {},
   "source": [
    "## Plot"
   ]
  },
  {
   "cell_type": "code",
   "execution_count": 14,
   "id": "4effe73a",
   "metadata": {},
   "outputs": [
    {
     "data": {
      "image/png": "[encoded data removed]",
      "text/plain": [
       "<Figure size 432x288 with 1 Axes>"
      ]
     },
     "metadata": {},
     "output_type": "display_data"
    }
   ],
   "source": [
    "plt.figure()\n",
    "plt.plot(HTes,MBohr, label = 'Measured')\n",
    "plt.plot(HTes, fitted.best_fit, label = 'Powder Averaging Fitted')\n",
    "plt.xlabel('Field (T)')\n",
    "plt.ylabel('Magnetization (uB / spin)')\n",
    "plt.title('Powder {} Magnetization at {} K'.format(comp,Temp))\n",
    "plt.legend()\n",
    "plt.show()"
   ]
  }
 ],
 "metadata": {
  "kernelspec": {
   "display_name": "Python 3 (ipykernel)",
   "language": "python",
   "name": "python3"
  },
  "language_info": {
   "codemirror_mode": {
    "name": "ipython",
    "version": 3
   },
   "file_extension": ".py",
   "mimetype": "text/x-python",
   "name": "python",
   "nbconvert_exporter": "python",
   "pygments_lexer": "ipython3",
   "version": "3.9.7"
  }
 },
 "nbformat": 4,
 "nbformat_minor": 5
}
